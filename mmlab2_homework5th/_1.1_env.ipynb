{
 "cells": [
  {
   "attachments": {},
   "cell_type": "markdown",
   "id": "283db6c5-7f78-4a9b-8212-f61269bd9a2d",
   "metadata": {},
   "source": [
    "# MMagic-训练\n",
    "\n",
    "liangyu 20230616"
   ]
  },
  {
   "cell_type": "code",
   "execution_count": 1,
   "id": "aa1757c7",
   "metadata": {},
   "outputs": [
    {
     "name": "stdout",
     "output_type": "stream",
     "text": [
      "1.10.1+cu113\n"
     ]
    }
   ],
   "source": [
    "import torch\n",
    "print(torch.__version__)\n",
    "device=torch.device(\"cuda:0\" if torch.cuda.is_available() else \"cpu\")"
   ]
  },
  {
   "cell_type": "code",
   "execution_count": 2,
   "id": "59582c84",
   "metadata": {},
   "outputs": [
    {
     "name": "stdout",
     "output_type": "stream",
     "text": [
      "\u001b[33mWARNING: Ignoring invalid distribution -orch (/home/liangyu/miniconda3/envs/mmlab2/lib/python3.9/site-packages)\u001b[0m\u001b[33m\n",
      "\u001b[0mLooking in links: https://download.pytorch.org/whl/cu113/torch_stable.html\n",
      "Requirement already satisfied: install in /home/liangyu/miniconda3/envs/mmlab2/lib/python3.9/site-packages (1.3.5)\n",
      "Requirement already satisfied: torch==1.10.1+cu113 in /home/liangyu/miniconda3/envs/mmlab2/lib/python3.9/site-packages (1.10.1+cu113)\n",
      "Requirement already satisfied: torchvision==0.11.2+cu113 in /home/liangyu/miniconda3/envs/mmlab2/lib/python3.9/site-packages (0.11.2+cu113)\n",
      "Requirement already satisfied: torchaudio==0.10.1+cu113 in /home/liangyu/miniconda3/envs/mmlab2/lib/python3.9/site-packages (0.10.1+cu113)\n",
      "Requirement already satisfied: typing-extensions in /home/liangyu/miniconda3/envs/mmlab2/lib/python3.9/site-packages (from torch==1.10.1+cu113) (4.6.2)\n",
      "Requirement already satisfied: numpy in /home/liangyu/miniconda3/envs/mmlab2/lib/python3.9/site-packages (from torchvision==0.11.2+cu113) (1.24.3)\n",
      "Requirement already satisfied: pillow!=8.3.0,>=5.3.0 in /home/liangyu/miniconda3/envs/mmlab2/lib/python3.9/site-packages (from torchvision==0.11.2+cu113) (9.5.0)\n",
      "\u001b[33mWARNING: Ignoring invalid distribution -orch (/home/liangyu/miniconda3/envs/mmlab2/lib/python3.9/site-packages)\u001b[0m\u001b[33m\n",
      "\u001b[0m"
     ]
    }
   ],
   "source": [
    "# 安装Pytorch\n",
    "!pip3 install install torch==1.10.1+cu113 torchvision==0.11.2+cu113 torchaudio==0.10.1+cu113 -f https://download.pytorch.org/whl/cu113/torch_stable.html"
   ]
  },
  {
   "cell_type": "code",
   "execution_count": 3,
   "id": "69fc3a11",
   "metadata": {},
   "outputs": [],
   "source": [
    "# # 安装Pytorch\n",
    "# !pip3 install install torch   torchvision  torchaudio "
   ]
  },
  {
   "cell_type": "code",
   "execution_count": 4,
   "id": "cf6d9e89",
   "metadata": {},
   "outputs": [
    {
     "name": "stdout",
     "output_type": "stream",
     "text": [
      "\u001b[33mWARNING: Ignoring invalid distribution -orch (/home/liangyu/miniconda3/envs/mmlab2/lib/python3.9/site-packages)\u001b[0m\u001b[33m\n",
      "\u001b[0mRequirement already satisfied: openmim in /home/liangyu/miniconda3/envs/mmlab2/lib/python3.9/site-packages (0.3.7)\n",
      "Requirement already satisfied: Click in /home/liangyu/miniconda3/envs/mmlab2/lib/python3.9/site-packages (from openmim) (8.1.3)\n",
      "Requirement already satisfied: colorama in /home/liangyu/miniconda3/envs/mmlab2/lib/python3.9/site-packages (from openmim) (0.4.6)\n",
      "Requirement already satisfied: model-index in /home/liangyu/miniconda3/envs/mmlab2/lib/python3.9/site-packages (from openmim) (0.1.11)\n",
      "Requirement already satisfied: pandas in /home/liangyu/miniconda3/envs/mmlab2/lib/python3.9/site-packages (from openmim) (2.0.2)\n",
      "Requirement already satisfied: pip>=19.3 in /home/liangyu/miniconda3/envs/mmlab2/lib/python3.9/site-packages (from openmim) (23.1.2)\n",
      "Requirement already satisfied: requests in /home/liangyu/miniconda3/envs/mmlab2/lib/python3.9/site-packages (from openmim) (2.31.0)\n",
      "Requirement already satisfied: rich in /home/liangyu/miniconda3/envs/mmlab2/lib/python3.9/site-packages (from openmim) (13.3.5)\n",
      "Requirement already satisfied: tabulate in /home/liangyu/miniconda3/envs/mmlab2/lib/python3.9/site-packages (from openmim) (0.9.0)\n",
      "Requirement already satisfied: pyyaml in /home/liangyu/miniconda3/envs/mmlab2/lib/python3.9/site-packages (from model-index->openmim) (6.0)\n",
      "Requirement already satisfied: markdown in /home/liangyu/miniconda3/envs/mmlab2/lib/python3.9/site-packages (from model-index->openmim) (3.4.3)\n",
      "Requirement already satisfied: ordered-set in /home/liangyu/miniconda3/envs/mmlab2/lib/python3.9/site-packages (from model-index->openmim) (4.1.0)\n",
      "Requirement already satisfied: python-dateutil>=2.8.2 in /home/liangyu/miniconda3/envs/mmlab2/lib/python3.9/site-packages (from pandas->openmim) (2.8.2)\n",
      "Requirement already satisfied: pytz>=2020.1 in /home/liangyu/miniconda3/envs/mmlab2/lib/python3.9/site-packages (from pandas->openmim) (2023.3)\n",
      "Requirement already satisfied: tzdata>=2022.1 in /home/liangyu/miniconda3/envs/mmlab2/lib/python3.9/site-packages (from pandas->openmim) (2023.3)\n",
      "Requirement already satisfied: numpy>=1.20.3 in /home/liangyu/miniconda3/envs/mmlab2/lib/python3.9/site-packages (from pandas->openmim) (1.24.3)\n",
      "Requirement already satisfied: charset-normalizer<4,>=2 in /home/liangyu/miniconda3/envs/mmlab2/lib/python3.9/site-packages (from requests->openmim) (3.1.0)\n",
      "Requirement already satisfied: idna<4,>=2.5 in /home/liangyu/miniconda3/envs/mmlab2/lib/python3.9/site-packages (from requests->openmim) (3.4)\n",
      "Requirement already satisfied: urllib3<3,>=1.21.1 in /home/liangyu/miniconda3/envs/mmlab2/lib/python3.9/site-packages (from requests->openmim) (1.26.16)\n",
      "Requirement already satisfied: certifi>=2017.4.17 in /home/liangyu/miniconda3/envs/mmlab2/lib/python3.9/site-packages (from requests->openmim) (2023.5.7)\n",
      "Requirement already satisfied: markdown-it-py<3.0.0,>=2.2.0 in /home/liangyu/miniconda3/envs/mmlab2/lib/python3.9/site-packages (from rich->openmim) (2.2.0)\n",
      "Requirement already satisfied: pygments<3.0.0,>=2.13.0 in /home/liangyu/miniconda3/envs/mmlab2/lib/python3.9/site-packages (from rich->openmim) (2.15.1)\n",
      "Requirement already satisfied: mdurl~=0.1 in /home/liangyu/miniconda3/envs/mmlab2/lib/python3.9/site-packages (from markdown-it-py<3.0.0,>=2.2.0->rich->openmim) (0.1.2)\n",
      "Requirement already satisfied: six>=1.5 in /home/liangyu/miniconda3/envs/mmlab2/lib/python3.9/site-packages (from python-dateutil>=2.8.2->pandas->openmim) (1.16.0)\n",
      "Requirement already satisfied: importlib-metadata>=4.4 in /home/liangyu/miniconda3/envs/mmlab2/lib/python3.9/site-packages (from markdown->model-index->openmim) (6.6.0)\n",
      "Requirement already satisfied: zipp>=0.5 in /home/liangyu/miniconda3/envs/mmlab2/lib/python3.9/site-packages (from importlib-metadata>=4.4->markdown->model-index->openmim) (3.15.0)\n",
      "\u001b[33mWARNING: Ignoring invalid distribution -orch (/home/liangyu/miniconda3/envs/mmlab2/lib/python3.9/site-packages)\u001b[0m\u001b[33m\n",
      "\u001b[0m/home/liangyu/miniconda3/envs/mmlab2/lib/python3.9/site-packages/setuptools/command/install.py:34: SetuptoolsDeprecationWarning: setup.py install is deprecated. Use build and pip and other standards-based tools.\n",
      "  warnings.warn(\n",
      "\u001b[33mWARNING: Ignoring invalid distribution -orch (/home/liangyu/miniconda3/envs/mmlab2/lib/python3.9/site-packages)\u001b[0m\u001b[33m\n",
      "\u001b[0mLooking in links: https://download.openmmlab.com/mmcv/dist/cu113/torch1.10.0/index.html\n",
      "Requirement already satisfied: mmengine in /home/liangyu/miniconda3/envs/mmlab2/lib/python3.9/site-packages (0.7.3)\n",
      "Requirement already satisfied: addict in /home/liangyu/miniconda3/envs/mmlab2/lib/python3.9/site-packages (from mmengine) (2.4.0)\n",
      "Requirement already satisfied: matplotlib in /home/liangyu/miniconda3/envs/mmlab2/lib/python3.9/site-packages (from mmengine) (3.7.1)\n",
      "Requirement already satisfied: numpy in /home/liangyu/miniconda3/envs/mmlab2/lib/python3.9/site-packages (from mmengine) (1.24.3)\n",
      "Requirement already satisfied: pyyaml in /home/liangyu/miniconda3/envs/mmlab2/lib/python3.9/site-packages (from mmengine) (6.0)\n",
      "Requirement already satisfied: rich in /home/liangyu/miniconda3/envs/mmlab2/lib/python3.9/site-packages (from mmengine) (13.3.5)\n",
      "Requirement already satisfied: termcolor in /home/liangyu/miniconda3/envs/mmlab2/lib/python3.9/site-packages (from mmengine) (2.3.0)\n",
      "Requirement already satisfied: yapf in /home/liangyu/miniconda3/envs/mmlab2/lib/python3.9/site-packages (from mmengine) (0.33.0)\n",
      "Requirement already satisfied: opencv-python>=3 in /home/liangyu/miniconda3/envs/mmlab2/lib/python3.9/site-packages (from mmengine) (4.7.0.72)\n",
      "Requirement already satisfied: contourpy>=1.0.1 in /home/liangyu/miniconda3/envs/mmlab2/lib/python3.9/site-packages (from matplotlib->mmengine) (1.0.7)\n",
      "Requirement already satisfied: cycler>=0.10 in /home/liangyu/miniconda3/envs/mmlab2/lib/python3.9/site-packages (from matplotlib->mmengine) (0.11.0)\n",
      "Requirement already satisfied: fonttools>=4.22.0 in /home/liangyu/miniconda3/envs/mmlab2/lib/python3.9/site-packages (from matplotlib->mmengine) (4.39.4)\n",
      "Requirement already satisfied: kiwisolver>=1.0.1 in /home/liangyu/miniconda3/envs/mmlab2/lib/python3.9/site-packages (from matplotlib->mmengine) (1.4.4)\n",
      "Requirement already satisfied: packaging>=20.0 in /home/liangyu/miniconda3/envs/mmlab2/lib/python3.9/site-packages (from matplotlib->mmengine) (23.1)\n",
      "Requirement already satisfied: pillow>=6.2.0 in /home/liangyu/miniconda3/envs/mmlab2/lib/python3.9/site-packages (from matplotlib->mmengine) (9.5.0)\n",
      "Requirement already satisfied: pyparsing>=2.3.1 in /home/liangyu/miniconda3/envs/mmlab2/lib/python3.9/site-packages (from matplotlib->mmengine) (3.0.9)\n",
      "Requirement already satisfied: python-dateutil>=2.7 in /home/liangyu/miniconda3/envs/mmlab2/lib/python3.9/site-packages (from matplotlib->mmengine) (2.8.2)\n",
      "Requirement already satisfied: importlib-resources>=3.2.0 in /home/liangyu/miniconda3/envs/mmlab2/lib/python3.9/site-packages (from matplotlib->mmengine) (5.12.0)\n",
      "Requirement already satisfied: markdown-it-py<3.0.0,>=2.2.0 in /home/liangyu/miniconda3/envs/mmlab2/lib/python3.9/site-packages (from rich->mmengine) (2.2.0)\n",
      "Requirement already satisfied: pygments<3.0.0,>=2.13.0 in /home/liangyu/miniconda3/envs/mmlab2/lib/python3.9/site-packages (from rich->mmengine) (2.15.1)\n",
      "Requirement already satisfied: tomli>=2.0.1 in /home/liangyu/miniconda3/envs/mmlab2/lib/python3.9/site-packages (from yapf->mmengine) (2.0.1)\n",
      "Requirement already satisfied: zipp>=3.1.0 in /home/liangyu/miniconda3/envs/mmlab2/lib/python3.9/site-packages (from importlib-resources>=3.2.0->matplotlib->mmengine) (3.15.0)\n",
      "Requirement already satisfied: mdurl~=0.1 in /home/liangyu/miniconda3/envs/mmlab2/lib/python3.9/site-packages (from markdown-it-py<3.0.0,>=2.2.0->rich->mmengine) (0.1.2)\n",
      "Requirement already satisfied: six>=1.5 in /home/liangyu/miniconda3/envs/mmlab2/lib/python3.9/site-packages (from python-dateutil>=2.7->matplotlib->mmengine) (1.16.0)\n",
      "\u001b[33mWARNING: Ignoring invalid distribution -orch (/home/liangyu/miniconda3/envs/mmlab2/lib/python3.9/site-packages)\u001b[0m\u001b[33m\n",
      "\u001b[0m/home/liangyu/miniconda3/envs/mmlab2/lib/python3.9/site-packages/setuptools/command/install.py:34: SetuptoolsDeprecationWarning: setup.py install is deprecated. Use build and pip and other standards-based tools.\n",
      "  warnings.warn(\n",
      "/home/liangyu/miniconda3/envs/mmlab2/lib/python3.9/site-packages/setuptools/command/install.py:34: SetuptoolsDeprecationWarning: setup.py install is deprecated. Use build and pip and other standards-based tools.\n",
      "  warnings.warn(\n",
      "\u001b[33mWARNING: Ignoring invalid distribution -orch (/home/liangyu/miniconda3/envs/mmlab2/lib/python3.9/site-packages)\u001b[0m\u001b[33m\n",
      "\u001b[0mLooking in links: https://download.openmmlab.com/mmcv/dist/cu113/torch1.10.0/index.html\n",
      "Requirement already satisfied: mmcv==2.0.0 in /home/liangyu/miniconda3/envs/mmlab2/lib/python3.9/site-packages (2.0.0)\n",
      "Requirement already satisfied: addict in /home/liangyu/miniconda3/envs/mmlab2/lib/python3.9/site-packages (from mmcv==2.0.0) (2.4.0)\n",
      "Requirement already satisfied: mmengine>=0.2.0 in /home/liangyu/miniconda3/envs/mmlab2/lib/python3.9/site-packages (from mmcv==2.0.0) (0.7.3)\n",
      "Requirement already satisfied: numpy in /home/liangyu/miniconda3/envs/mmlab2/lib/python3.9/site-packages (from mmcv==2.0.0) (1.24.3)\n",
      "Requirement already satisfied: packaging in /home/liangyu/miniconda3/envs/mmlab2/lib/python3.9/site-packages (from mmcv==2.0.0) (23.1)\n",
      "Requirement already satisfied: Pillow in /home/liangyu/miniconda3/envs/mmlab2/lib/python3.9/site-packages (from mmcv==2.0.0) (9.5.0)\n",
      "Requirement already satisfied: pyyaml in /home/liangyu/miniconda3/envs/mmlab2/lib/python3.9/site-packages (from mmcv==2.0.0) (6.0)\n",
      "Requirement already satisfied: yapf in /home/liangyu/miniconda3/envs/mmlab2/lib/python3.9/site-packages (from mmcv==2.0.0) (0.33.0)\n",
      "Requirement already satisfied: opencv-python>=3 in /home/liangyu/miniconda3/envs/mmlab2/lib/python3.9/site-packages (from mmcv==2.0.0) (4.7.0.72)\n",
      "Requirement already satisfied: matplotlib in /home/liangyu/miniconda3/envs/mmlab2/lib/python3.9/site-packages (from mmengine>=0.2.0->mmcv==2.0.0) (3.7.1)\n",
      "Requirement already satisfied: rich in /home/liangyu/miniconda3/envs/mmlab2/lib/python3.9/site-packages (from mmengine>=0.2.0->mmcv==2.0.0) (13.3.5)\n",
      "Requirement already satisfied: termcolor in /home/liangyu/miniconda3/envs/mmlab2/lib/python3.9/site-packages (from mmengine>=0.2.0->mmcv==2.0.0) (2.3.0)\n",
      "Requirement already satisfied: tomli>=2.0.1 in /home/liangyu/miniconda3/envs/mmlab2/lib/python3.9/site-packages (from yapf->mmcv==2.0.0) (2.0.1)\n",
      "Requirement already satisfied: contourpy>=1.0.1 in /home/liangyu/miniconda3/envs/mmlab2/lib/python3.9/site-packages (from matplotlib->mmengine>=0.2.0->mmcv==2.0.0) (1.0.7)\n",
      "Requirement already satisfied: cycler>=0.10 in /home/liangyu/miniconda3/envs/mmlab2/lib/python3.9/site-packages (from matplotlib->mmengine>=0.2.0->mmcv==2.0.0) (0.11.0)\n",
      "Requirement already satisfied: fonttools>=4.22.0 in /home/liangyu/miniconda3/envs/mmlab2/lib/python3.9/site-packages (from matplotlib->mmengine>=0.2.0->mmcv==2.0.0) (4.39.4)\n",
      "Requirement already satisfied: kiwisolver>=1.0.1 in /home/liangyu/miniconda3/envs/mmlab2/lib/python3.9/site-packages (from matplotlib->mmengine>=0.2.0->mmcv==2.0.0) (1.4.4)\n",
      "Requirement already satisfied: pyparsing>=2.3.1 in /home/liangyu/miniconda3/envs/mmlab2/lib/python3.9/site-packages (from matplotlib->mmengine>=0.2.0->mmcv==2.0.0) (3.0.9)\n",
      "Requirement already satisfied: python-dateutil>=2.7 in /home/liangyu/miniconda3/envs/mmlab2/lib/python3.9/site-packages (from matplotlib->mmengine>=0.2.0->mmcv==2.0.0) (2.8.2)\n",
      "Requirement already satisfied: importlib-resources>=3.2.0 in /home/liangyu/miniconda3/envs/mmlab2/lib/python3.9/site-packages (from matplotlib->mmengine>=0.2.0->mmcv==2.0.0) (5.12.0)\n",
      "Requirement already satisfied: markdown-it-py<3.0.0,>=2.2.0 in /home/liangyu/miniconda3/envs/mmlab2/lib/python3.9/site-packages (from rich->mmengine>=0.2.0->mmcv==2.0.0) (2.2.0)\n",
      "Requirement already satisfied: pygments<3.0.0,>=2.13.0 in /home/liangyu/miniconda3/envs/mmlab2/lib/python3.9/site-packages (from rich->mmengine>=0.2.0->mmcv==2.0.0) (2.15.1)\n",
      "Requirement already satisfied: zipp>=3.1.0 in /home/liangyu/miniconda3/envs/mmlab2/lib/python3.9/site-packages (from importlib-resources>=3.2.0->matplotlib->mmengine>=0.2.0->mmcv==2.0.0) (3.15.0)\n",
      "Requirement already satisfied: mdurl~=0.1 in /home/liangyu/miniconda3/envs/mmlab2/lib/python3.9/site-packages (from markdown-it-py<3.0.0,>=2.2.0->rich->mmengine>=0.2.0->mmcv==2.0.0) (0.1.2)\n",
      "Requirement already satisfied: six>=1.5 in /home/liangyu/miniconda3/envs/mmlab2/lib/python3.9/site-packages (from python-dateutil>=2.7->matplotlib->mmengine>=0.2.0->mmcv==2.0.0) (1.16.0)\n",
      "\u001b[33mWARNING: Ignoring invalid distribution -orch (/home/liangyu/miniconda3/envs/mmlab2/lib/python3.9/site-packages)\u001b[0m\u001b[33m\n",
      "\u001b[0m/home/liangyu/miniconda3/envs/mmlab2/lib/python3.9/site-packages/setuptools/command/install.py:34: SetuptoolsDeprecationWarning: setup.py install is deprecated. Use build and pip and other standards-based tools.\n",
      "  warnings.warn(\n"
     ]
    }
   ],
   "source": [
    "!pip install -U openmim\n",
    "!mim install mmengine\n",
    "!mim install 'mmcv==2.0.0'"
   ]
  },
  {
   "cell_type": "code",
   "execution_count": 5,
   "id": "0c207431",
   "metadata": {},
   "outputs": [
    {
     "data": {
      "text/plain": [
       "'1.10.1+cu113'"
      ]
     },
     "execution_count": 5,
     "metadata": {},
     "output_type": "execute_result"
    }
   ],
   "source": [
    "torch.__version__"
   ]
  },
  {
   "cell_type": "code",
   "execution_count": 6,
   "id": "2fa33480",
   "metadata": {},
   "outputs": [
    {
     "name": "stdout",
     "output_type": "stream",
     "text": [
      "/home/liangyu/code/mmlab2/2023AI/0616 copy\n"
     ]
    }
   ],
   "source": [
    "!pwd"
   ]
  },
  {
   "cell_type": "code",
   "execution_count": 7,
   "id": "9c8055ad",
   "metadata": {},
   "outputs": [
    {
     "name": "stdout",
     "output_type": "stream",
     "text": [
      "Cloning into 'mmagic'...\n",
      "remote: Enumerating objects: 25642, done.\u001b[K\n",
      "remote: Counting objects: 100% (3606/3606), done.\u001b[K\n",
      "remote: Compressing objects: 100% (1599/1599), done.\u001b[K\n",
      "remote: Total 25642 (delta 2010), reused 3419 (delta 1954), pack-reused 22036\u001b[K\n",
      "Receiving objects: 100% (25642/25642), 21.61 MiB | 3.92 MiB/s, done.\n",
      "Resolving deltas: 100% (17120/17120), done.\n"
     ]
    }
   ],
   "source": [
    "!rm -rf mmagic # 删除原有的 mmagic 文件夹（如有）\n",
    "!git clone https://kgithub.com/open-mmlab/mmagic.git # 下载 mmagic 源代码"
   ]
  },
  {
   "cell_type": "code",
   "execution_count": 8,
   "id": "38d13705",
   "metadata": {},
   "outputs": [
    {
     "name": "stdout",
     "output_type": "stream",
     "text": [
      "\u001b[33mWARNING: Ignoring invalid distribution -orch (/home/liangyu/miniconda3/envs/mmlab2/lib/python3.9/site-packages)\u001b[0m\u001b[33m\n",
      "\u001b[0mObtaining file:///home/liangyu/code/mmlab2/2023AI/0616%20copy/mmagic\n",
      "  Preparing metadata (setup.py) ... \u001b[?25ldone\n",
      "\u001b[?25h\u001b[33m  WARNING: Ignoring invalid distribution -orch (/home/liangyu/miniconda3/envs/mmlab2/lib/python3.9/site-packages)\u001b[0m\u001b[33m\n",
      "\u001b[0mRequirement already satisfied: av in /home/liangyu/miniconda3/envs/mmlab2/lib/python3.9/site-packages (from mmagic==1.0.2.dev0) (10.0.0)\n",
      "Requirement already satisfied: click in /home/liangyu/miniconda3/envs/mmlab2/lib/python3.9/site-packages (from mmagic==1.0.2.dev0) (8.1.3)\n",
      "Requirement already satisfied: controlnet_aux in /home/liangyu/miniconda3/envs/mmlab2/lib/python3.9/site-packages (from mmagic==1.0.2.dev0) (0.0.5)\n",
      "Requirement already satisfied: diffusers>=0.12.0 in /home/liangyu/miniconda3/envs/mmlab2/lib/python3.9/site-packages (from mmagic==1.0.2.dev0) (0.14.0)\n",
      "Requirement already satisfied: einops in /home/liangyu/miniconda3/envs/mmlab2/lib/python3.9/site-packages (from mmagic==1.0.2.dev0) (0.6.1)\n",
      "Requirement already satisfied: face-alignment<=1.3.4 in /home/liangyu/miniconda3/envs/mmlab2/lib/python3.9/site-packages (from mmagic==1.0.2.dev0) (1.3.4)\n",
      "Requirement already satisfied: facexlib in /home/liangyu/miniconda3/envs/mmlab2/lib/python3.9/site-packages (from mmagic==1.0.2.dev0) (0.3.0)\n",
      "Requirement already satisfied: lmdb in /home/liangyu/miniconda3/envs/mmlab2/lib/python3.9/site-packages (from mmagic==1.0.2.dev0) (1.4.1)\n",
      "Requirement already satisfied: lpips in /home/liangyu/miniconda3/envs/mmlab2/lib/python3.9/site-packages (from mmagic==1.0.2.dev0) (0.1.4)\n",
      "Requirement already satisfied: mediapipe in /home/liangyu/miniconda3/envs/mmlab2/lib/python3.9/site-packages (from mmagic==1.0.2.dev0) (0.10.1)\n",
      "Requirement already satisfied: numpy in /home/liangyu/miniconda3/envs/mmlab2/lib/python3.9/site-packages (from mmagic==1.0.2.dev0) (1.24.3)\n",
      "Requirement already satisfied: opencv-python!=4.5.5.62,!=4.5.5.64 in /home/liangyu/miniconda3/envs/mmlab2/lib/python3.9/site-packages (from mmagic==1.0.2.dev0) (4.7.0.72)\n",
      "Requirement already satisfied: pandas in /home/liangyu/miniconda3/envs/mmlab2/lib/python3.9/site-packages (from mmagic==1.0.2.dev0) (2.0.2)\n",
      "Requirement already satisfied: Pillow in /home/liangyu/miniconda3/envs/mmlab2/lib/python3.9/site-packages (from mmagic==1.0.2.dev0) (9.5.0)\n",
      "Requirement already satisfied: resize_right in /home/liangyu/miniconda3/envs/mmlab2/lib/python3.9/site-packages (from mmagic==1.0.2.dev0) (0.0.2)\n",
      "Requirement already satisfied: tensorboard in /home/liangyu/miniconda3/envs/mmlab2/lib/python3.9/site-packages (from mmagic==1.0.2.dev0) (2.13.0)\n",
      "Requirement already satisfied: transformers>=4.27.4 in /home/liangyu/miniconda3/envs/mmlab2/lib/python3.9/site-packages (from mmagic==1.0.2.dev0) (4.30.0)\n",
      "Requirement already satisfied: importlib-metadata in /home/liangyu/miniconda3/envs/mmlab2/lib/python3.9/site-packages (from diffusers>=0.12.0->mmagic==1.0.2.dev0) (6.6.0)\n",
      "Requirement already satisfied: filelock in /home/liangyu/miniconda3/envs/mmlab2/lib/python3.9/site-packages (from diffusers>=0.12.0->mmagic==1.0.2.dev0) (3.12.0)\n",
      "Requirement already satisfied: huggingface-hub>=0.10.0 in /home/liangyu/miniconda3/envs/mmlab2/lib/python3.9/site-packages (from diffusers>=0.12.0->mmagic==1.0.2.dev0) (0.15.1)\n",
      "Requirement already satisfied: regex!=2019.12.17 in /home/liangyu/miniconda3/envs/mmlab2/lib/python3.9/site-packages (from diffusers>=0.12.0->mmagic==1.0.2.dev0) (2023.6.3)\n",
      "Requirement already satisfied: requests in /home/liangyu/miniconda3/envs/mmlab2/lib/python3.9/site-packages (from diffusers>=0.12.0->mmagic==1.0.2.dev0) (2.31.0)\n",
      "Requirement already satisfied: torch in /home/liangyu/miniconda3/envs/mmlab2/lib/python3.9/site-packages (from face-alignment<=1.3.4->mmagic==1.0.2.dev0) (1.10.1+cu113)\n",
      "Requirement already satisfied: scipy>=0.17 in /home/liangyu/miniconda3/envs/mmlab2/lib/python3.9/site-packages (from face-alignment<=1.3.4->mmagic==1.0.2.dev0) (1.10.1)\n",
      "Requirement already satisfied: scikit-image in /home/liangyu/miniconda3/envs/mmlab2/lib/python3.9/site-packages (from face-alignment<=1.3.4->mmagic==1.0.2.dev0) (0.21.0)\n",
      "Requirement already satisfied: tqdm in /home/liangyu/miniconda3/envs/mmlab2/lib/python3.9/site-packages (from face-alignment<=1.3.4->mmagic==1.0.2.dev0) (4.65.0)\n",
      "Requirement already satisfied: numba in /home/liangyu/miniconda3/envs/mmlab2/lib/python3.9/site-packages (from face-alignment<=1.3.4->mmagic==1.0.2.dev0) (0.57.0)\n",
      "Requirement already satisfied: packaging>=20.0 in /home/liangyu/miniconda3/envs/mmlab2/lib/python3.9/site-packages (from transformers>=4.27.4->mmagic==1.0.2.dev0) (23.1)\n",
      "Requirement already satisfied: pyyaml>=5.1 in /home/liangyu/miniconda3/envs/mmlab2/lib/python3.9/site-packages (from transformers>=4.27.4->mmagic==1.0.2.dev0) (6.0)\n",
      "Requirement already satisfied: tokenizers!=0.11.3,<0.14,>=0.11.1 in /home/liangyu/miniconda3/envs/mmlab2/lib/python3.9/site-packages (from transformers>=4.27.4->mmagic==1.0.2.dev0) (0.13.3)\n",
      "Requirement already satisfied: safetensors>=0.3.1 in /home/liangyu/miniconda3/envs/mmlab2/lib/python3.9/site-packages (from transformers>=4.27.4->mmagic==1.0.2.dev0) (0.3.1)\n",
      "Requirement already satisfied: timm in /home/liangyu/miniconda3/envs/mmlab2/lib/python3.9/site-packages (from controlnet_aux->mmagic==1.0.2.dev0) (0.9.2)\n",
      "Requirement already satisfied: torchvision in /home/liangyu/miniconda3/envs/mmlab2/lib/python3.9/site-packages (from controlnet_aux->mmagic==1.0.2.dev0) (0.11.2+cu113)\n",
      "Requirement already satisfied: filterpy in /home/liangyu/miniconda3/envs/mmlab2/lib/python3.9/site-packages (from facexlib->mmagic==1.0.2.dev0) (1.4.5)\n",
      "Requirement already satisfied: absl-py in /home/liangyu/miniconda3/envs/mmlab2/lib/python3.9/site-packages (from mediapipe->mmagic==1.0.2.dev0) (1.4.0)\n",
      "Requirement already satisfied: attrs>=19.1.0 in /home/liangyu/miniconda3/envs/mmlab2/lib/python3.9/site-packages (from mediapipe->mmagic==1.0.2.dev0) (23.1.0)\n",
      "Requirement already satisfied: flatbuffers>=2.0 in /home/liangyu/miniconda3/envs/mmlab2/lib/python3.9/site-packages (from mediapipe->mmagic==1.0.2.dev0) (23.5.26)\n",
      "Requirement already satisfied: matplotlib in /home/liangyu/miniconda3/envs/mmlab2/lib/python3.9/site-packages (from mediapipe->mmagic==1.0.2.dev0) (3.7.1)\n",
      "Requirement already satisfied: opencv-contrib-python in /home/liangyu/miniconda3/envs/mmlab2/lib/python3.9/site-packages (from mediapipe->mmagic==1.0.2.dev0) (4.7.0.72)\n",
      "Requirement already satisfied: protobuf<4,>=3.11 in /home/liangyu/miniconda3/envs/mmlab2/lib/python3.9/site-packages (from mediapipe->mmagic==1.0.2.dev0) (3.20.3)\n",
      "Requirement already satisfied: sounddevice>=0.4.4 in /home/liangyu/miniconda3/envs/mmlab2/lib/python3.9/site-packages (from mediapipe->mmagic==1.0.2.dev0) (0.4.6)\n",
      "Requirement already satisfied: python-dateutil>=2.8.2 in /home/liangyu/miniconda3/envs/mmlab2/lib/python3.9/site-packages (from pandas->mmagic==1.0.2.dev0) (2.8.2)\n",
      "Requirement already satisfied: pytz>=2020.1 in /home/liangyu/miniconda3/envs/mmlab2/lib/python3.9/site-packages (from pandas->mmagic==1.0.2.dev0) (2023.3)\n",
      "Requirement already satisfied: tzdata>=2022.1 in /home/liangyu/miniconda3/envs/mmlab2/lib/python3.9/site-packages (from pandas->mmagic==1.0.2.dev0) (2023.3)\n",
      "Requirement already satisfied: grpcio>=1.48.2 in /home/liangyu/miniconda3/envs/mmlab2/lib/python3.9/site-packages (from tensorboard->mmagic==1.0.2.dev0) (1.54.2)\n",
      "Requirement already satisfied: google-auth<3,>=1.6.3 in /home/liangyu/miniconda3/envs/mmlab2/lib/python3.9/site-packages (from tensorboard->mmagic==1.0.2.dev0) (2.19.1)\n",
      "Requirement already satisfied: google-auth-oauthlib<1.1,>=0.5 in /home/liangyu/miniconda3/envs/mmlab2/lib/python3.9/site-packages (from tensorboard->mmagic==1.0.2.dev0) (1.0.0)\n",
      "Requirement already satisfied: markdown>=2.6.8 in /home/liangyu/miniconda3/envs/mmlab2/lib/python3.9/site-packages (from tensorboard->mmagic==1.0.2.dev0) (3.4.3)\n",
      "Requirement already satisfied: setuptools>=41.0.0 in /home/liangyu/miniconda3/envs/mmlab2/lib/python3.9/site-packages (from tensorboard->mmagic==1.0.2.dev0) (59.5.0)\n",
      "Requirement already satisfied: tensorboard-data-server<0.8.0,>=0.7.0 in /home/liangyu/miniconda3/envs/mmlab2/lib/python3.9/site-packages (from tensorboard->mmagic==1.0.2.dev0) (0.7.0)\n",
      "Requirement already satisfied: werkzeug>=1.0.1 in /home/liangyu/miniconda3/envs/mmlab2/lib/python3.9/site-packages (from tensorboard->mmagic==1.0.2.dev0) (2.3.6)\n",
      "Requirement already satisfied: wheel>=0.26 in /home/liangyu/miniconda3/envs/mmlab2/lib/python3.9/site-packages (from tensorboard->mmagic==1.0.2.dev0) (0.40.0)\n",
      "Requirement already satisfied: cachetools<6.0,>=2.0.0 in /home/liangyu/miniconda3/envs/mmlab2/lib/python3.9/site-packages (from google-auth<3,>=1.6.3->tensorboard->mmagic==1.0.2.dev0) (5.3.1)\n",
      "Requirement already satisfied: pyasn1-modules>=0.2.1 in /home/liangyu/miniconda3/envs/mmlab2/lib/python3.9/site-packages (from google-auth<3,>=1.6.3->tensorboard->mmagic==1.0.2.dev0) (0.3.0)\n",
      "Requirement already satisfied: rsa<5,>=3.1.4 in /home/liangyu/miniconda3/envs/mmlab2/lib/python3.9/site-packages (from google-auth<3,>=1.6.3->tensorboard->mmagic==1.0.2.dev0) (4.9)\n",
      "Requirement already satisfied: six>=1.9.0 in /home/liangyu/miniconda3/envs/mmlab2/lib/python3.9/site-packages (from google-auth<3,>=1.6.3->tensorboard->mmagic==1.0.2.dev0) (1.16.0)\n",
      "Requirement already satisfied: urllib3<2.0 in /home/liangyu/miniconda3/envs/mmlab2/lib/python3.9/site-packages (from google-auth<3,>=1.6.3->tensorboard->mmagic==1.0.2.dev0) (1.26.16)\n",
      "Requirement already satisfied: requests-oauthlib>=0.7.0 in /home/liangyu/miniconda3/envs/mmlab2/lib/python3.9/site-packages (from google-auth-oauthlib<1.1,>=0.5->tensorboard->mmagic==1.0.2.dev0) (1.3.1)\n",
      "Requirement already satisfied: fsspec in /home/liangyu/miniconda3/envs/mmlab2/lib/python3.9/site-packages (from huggingface-hub>=0.10.0->diffusers>=0.12.0->mmagic==1.0.2.dev0) (2023.5.0)\n",
      "Requirement already satisfied: typing-extensions>=3.7.4.3 in /home/liangyu/miniconda3/envs/mmlab2/lib/python3.9/site-packages (from huggingface-hub>=0.10.0->diffusers>=0.12.0->mmagic==1.0.2.dev0) (4.6.2)\n",
      "Requirement already satisfied: zipp>=0.5 in /home/liangyu/miniconda3/envs/mmlab2/lib/python3.9/site-packages (from importlib-metadata->diffusers>=0.12.0->mmagic==1.0.2.dev0) (3.15.0)\n",
      "Requirement already satisfied: charset-normalizer<4,>=2 in /home/liangyu/miniconda3/envs/mmlab2/lib/python3.9/site-packages (from requests->diffusers>=0.12.0->mmagic==1.0.2.dev0) (3.1.0)\n",
      "Requirement already satisfied: idna<4,>=2.5 in /home/liangyu/miniconda3/envs/mmlab2/lib/python3.9/site-packages (from requests->diffusers>=0.12.0->mmagic==1.0.2.dev0) (3.4)\n",
      "Requirement already satisfied: certifi>=2017.4.17 in /home/liangyu/miniconda3/envs/mmlab2/lib/python3.9/site-packages (from requests->diffusers>=0.12.0->mmagic==1.0.2.dev0) (2023.5.7)\n",
      "Requirement already satisfied: CFFI>=1.0 in /home/liangyu/miniconda3/envs/mmlab2/lib/python3.9/site-packages (from sounddevice>=0.4.4->mediapipe->mmagic==1.0.2.dev0) (1.15.1)\n",
      "Requirement already satisfied: MarkupSafe>=2.1.1 in /home/liangyu/miniconda3/envs/mmlab2/lib/python3.9/site-packages (from werkzeug>=1.0.1->tensorboard->mmagic==1.0.2.dev0) (2.1.2)\n",
      "Requirement already satisfied: contourpy>=1.0.1 in /home/liangyu/miniconda3/envs/mmlab2/lib/python3.9/site-packages (from matplotlib->mediapipe->mmagic==1.0.2.dev0) (1.0.7)\n",
      "Requirement already satisfied: cycler>=0.10 in /home/liangyu/miniconda3/envs/mmlab2/lib/python3.9/site-packages (from matplotlib->mediapipe->mmagic==1.0.2.dev0) (0.11.0)\n",
      "Requirement already satisfied: fonttools>=4.22.0 in /home/liangyu/miniconda3/envs/mmlab2/lib/python3.9/site-packages (from matplotlib->mediapipe->mmagic==1.0.2.dev0) (4.39.4)\n",
      "Requirement already satisfied: kiwisolver>=1.0.1 in /home/liangyu/miniconda3/envs/mmlab2/lib/python3.9/site-packages (from matplotlib->mediapipe->mmagic==1.0.2.dev0) (1.4.4)\n",
      "Requirement already satisfied: pyparsing>=2.3.1 in /home/liangyu/miniconda3/envs/mmlab2/lib/python3.9/site-packages (from matplotlib->mediapipe->mmagic==1.0.2.dev0) (3.0.9)\n",
      "Requirement already satisfied: importlib-resources>=3.2.0 in /home/liangyu/miniconda3/envs/mmlab2/lib/python3.9/site-packages (from matplotlib->mediapipe->mmagic==1.0.2.dev0) (5.12.0)\n",
      "Requirement already satisfied: llvmlite<0.41,>=0.40.0dev0 in /home/liangyu/miniconda3/envs/mmlab2/lib/python3.9/site-packages (from numba->face-alignment<=1.3.4->mmagic==1.0.2.dev0) (0.40.1rc1)\n",
      "Requirement already satisfied: networkx>=2.8 in /home/liangyu/miniconda3/envs/mmlab2/lib/python3.9/site-packages (from scikit-image->face-alignment<=1.3.4->mmagic==1.0.2.dev0) (3.1)\n",
      "Requirement already satisfied: imageio>=2.27 in /home/liangyu/miniconda3/envs/mmlab2/lib/python3.9/site-packages (from scikit-image->face-alignment<=1.3.4->mmagic==1.0.2.dev0) (2.30.0)\n",
      "Requirement already satisfied: tifffile>=2022.8.12 in /home/liangyu/miniconda3/envs/mmlab2/lib/python3.9/site-packages (from scikit-image->face-alignment<=1.3.4->mmagic==1.0.2.dev0) (2023.4.12)\n",
      "Requirement already satisfied: PyWavelets>=1.1.1 in /home/liangyu/miniconda3/envs/mmlab2/lib/python3.9/site-packages (from scikit-image->face-alignment<=1.3.4->mmagic==1.0.2.dev0) (1.4.1)\n",
      "Requirement already satisfied: lazy_loader>=0.2 in /home/liangyu/miniconda3/envs/mmlab2/lib/python3.9/site-packages (from scikit-image->face-alignment<=1.3.4->mmagic==1.0.2.dev0) (0.2)\n",
      "Requirement already satisfied: pycparser in /home/liangyu/miniconda3/envs/mmlab2/lib/python3.9/site-packages (from CFFI>=1.0->sounddevice>=0.4.4->mediapipe->mmagic==1.0.2.dev0) (2.21)\n",
      "Requirement already satisfied: pyasn1<0.6.0,>=0.4.6 in /home/liangyu/miniconda3/envs/mmlab2/lib/python3.9/site-packages (from pyasn1-modules>=0.2.1->google-auth<3,>=1.6.3->tensorboard->mmagic==1.0.2.dev0) (0.5.0)\n",
      "Requirement already satisfied: oauthlib>=3.0.0 in /home/liangyu/miniconda3/envs/mmlab2/lib/python3.9/site-packages (from requests-oauthlib>=0.7.0->google-auth-oauthlib<1.1,>=0.5->tensorboard->mmagic==1.0.2.dev0) (3.2.2)\n",
      "\u001b[33mWARNING: Ignoring invalid distribution -orch (/home/liangyu/miniconda3/envs/mmlab2/lib/python3.9/site-packages)\u001b[0m\u001b[33m\n",
      "\u001b[0mInstalling collected packages: mmagic\n",
      "  Running setup.py develop for mmagic\n",
      "\u001b[33mWARNING: Ignoring invalid distribution -orch (/home/liangyu/miniconda3/envs/mmlab2/lib/python3.9/site-packages)\u001b[0m\u001b[33m\n",
      "\u001b[0m\u001b[33mWARNING: Ignoring invalid distribution -orch (/home/liangyu/miniconda3/envs/mmlab2/lib/python3.9/site-packages)\u001b[0m\u001b[33m\n",
      "\u001b[0mSuccessfully installed mmagic-1.0.2.dev0\n"
     ]
    }
   ],
   "source": [
    "import os\n",
    "os.chdir('mmagic')\n",
    "!pip3 install -e ."
   ]
  },
  {
   "cell_type": "code",
   "execution_count": 9,
   "id": "33661c2a",
   "metadata": {},
   "outputs": [
    {
     "data": {
      "text/plain": [
       "'1.0.2dev0'"
      ]
     },
     "execution_count": 9,
     "metadata": {},
     "output_type": "execute_result"
    }
   ],
   "source": [
    "import mmagic\n",
    "mmagic.__version__"
   ]
  },
  {
   "cell_type": "code",
   "execution_count": 10,
   "id": "40e0c39e",
   "metadata": {},
   "outputs": [
    {
     "name": "stdout",
     "output_type": "stream",
     "text": [
      "\u001b[33mWARNING: Ignoring invalid distribution -orch (/home/liangyu/miniconda3/envs/mmlab2/lib/python3.9/site-packages)\u001b[0m\u001b[33m\n",
      "\u001b[0mRequirement already satisfied: openmim in /home/liangyu/miniconda3/envs/mmlab2/lib/python3.9/site-packages (0.3.7)\n",
      "Requirement already satisfied: Click in /home/liangyu/miniconda3/envs/mmlab2/lib/python3.9/site-packages (from openmim) (8.1.3)\n",
      "Requirement already satisfied: colorama in /home/liangyu/miniconda3/envs/mmlab2/lib/python3.9/site-packages (from openmim) (0.4.6)\n",
      "Requirement already satisfied: model-index in /home/liangyu/miniconda3/envs/mmlab2/lib/python3.9/site-packages (from openmim) (0.1.11)\n",
      "Requirement already satisfied: pandas in /home/liangyu/miniconda3/envs/mmlab2/lib/python3.9/site-packages (from openmim) (2.0.2)\n",
      "Requirement already satisfied: pip>=19.3 in /home/liangyu/miniconda3/envs/mmlab2/lib/python3.9/site-packages (from openmim) (23.1.2)\n",
      "Requirement already satisfied: requests in /home/liangyu/miniconda3/envs/mmlab2/lib/python3.9/site-packages (from openmim) (2.31.0)\n",
      "Requirement already satisfied: rich in /home/liangyu/miniconda3/envs/mmlab2/lib/python3.9/site-packages (from openmim) (13.3.5)\n",
      "Requirement already satisfied: tabulate in /home/liangyu/miniconda3/envs/mmlab2/lib/python3.9/site-packages (from openmim) (0.9.0)\n",
      "Requirement already satisfied: pyyaml in /home/liangyu/miniconda3/envs/mmlab2/lib/python3.9/site-packages (from model-index->openmim) (6.0)\n",
      "Requirement already satisfied: markdown in /home/liangyu/miniconda3/envs/mmlab2/lib/python3.9/site-packages (from model-index->openmim) (3.4.3)\n",
      "Requirement already satisfied: ordered-set in /home/liangyu/miniconda3/envs/mmlab2/lib/python3.9/site-packages (from model-index->openmim) (4.1.0)\n",
      "Requirement already satisfied: python-dateutil>=2.8.2 in /home/liangyu/miniconda3/envs/mmlab2/lib/python3.9/site-packages (from pandas->openmim) (2.8.2)\n",
      "Requirement already satisfied: pytz>=2020.1 in /home/liangyu/miniconda3/envs/mmlab2/lib/python3.9/site-packages (from pandas->openmim) (2023.3)\n",
      "Requirement already satisfied: tzdata>=2022.1 in /home/liangyu/miniconda3/envs/mmlab2/lib/python3.9/site-packages (from pandas->openmim) (2023.3)\n",
      "Requirement already satisfied: numpy>=1.20.3 in /home/liangyu/miniconda3/envs/mmlab2/lib/python3.9/site-packages (from pandas->openmim) (1.24.3)\n",
      "Requirement already satisfied: charset-normalizer<4,>=2 in /home/liangyu/miniconda3/envs/mmlab2/lib/python3.9/site-packages (from requests->openmim) (3.1.0)\n",
      "Requirement already satisfied: idna<4,>=2.5 in /home/liangyu/miniconda3/envs/mmlab2/lib/python3.9/site-packages (from requests->openmim) (3.4)\n",
      "Requirement already satisfied: urllib3<3,>=1.21.1 in /home/liangyu/miniconda3/envs/mmlab2/lib/python3.9/site-packages (from requests->openmim) (1.26.16)\n",
      "Requirement already satisfied: certifi>=2017.4.17 in /home/liangyu/miniconda3/envs/mmlab2/lib/python3.9/site-packages (from requests->openmim) (2023.5.7)\n",
      "Requirement already satisfied: markdown-it-py<3.0.0,>=2.2.0 in /home/liangyu/miniconda3/envs/mmlab2/lib/python3.9/site-packages (from rich->openmim) (2.2.0)\n",
      "Requirement already satisfied: pygments<3.0.0,>=2.13.0 in /home/liangyu/miniconda3/envs/mmlab2/lib/python3.9/site-packages (from rich->openmim) (2.15.1)\n",
      "Requirement already satisfied: mdurl~=0.1 in /home/liangyu/miniconda3/envs/mmlab2/lib/python3.9/site-packages (from markdown-it-py<3.0.0,>=2.2.0->rich->openmim) (0.1.2)\n",
      "Requirement already satisfied: six>=1.5 in /home/liangyu/miniconda3/envs/mmlab2/lib/python3.9/site-packages (from python-dateutil>=2.8.2->pandas->openmim) (1.16.0)\n",
      "Requirement already satisfied: importlib-metadata>=4.4 in /home/liangyu/miniconda3/envs/mmlab2/lib/python3.9/site-packages (from markdown->model-index->openmim) (6.6.0)\n",
      "Requirement already satisfied: zipp>=0.5 in /home/liangyu/miniconda3/envs/mmlab2/lib/python3.9/site-packages (from importlib-metadata>=4.4->markdown->model-index->openmim) (3.15.0)\n",
      "\u001b[33mWARNING: Ignoring invalid distribution -orch (/home/liangyu/miniconda3/envs/mmlab2/lib/python3.9/site-packages)\u001b[0m\u001b[33m\n",
      "\u001b[0m/home/liangyu/miniconda3/envs/mmlab2/lib/python3.9/site-packages/setuptools/command/install.py:34: SetuptoolsDeprecationWarning: setup.py install is deprecated. Use build and pip and other standards-based tools.\n",
      "  warnings.warn(\n",
      "\u001b[33mWARNING: Ignoring invalid distribution -orch (/home/liangyu/miniconda3/envs/mmlab2/lib/python3.9/site-packages)\u001b[0m\u001b[33m\n",
      "\u001b[0mLooking in links: https://download.openmmlab.com/mmcv/dist/cu113/torch1.10.0/index.html\n",
      "Requirement already satisfied: mmcv>=2.0.0 in /home/liangyu/miniconda3/envs/mmlab2/lib/python3.9/site-packages (2.0.0)\n",
      "Requirement already satisfied: addict in /home/liangyu/miniconda3/envs/mmlab2/lib/python3.9/site-packages (from mmcv>=2.0.0) (2.4.0)\n",
      "Requirement already satisfied: mmengine>=0.2.0 in /home/liangyu/miniconda3/envs/mmlab2/lib/python3.9/site-packages (from mmcv>=2.0.0) (0.7.3)\n",
      "Requirement already satisfied: numpy in /home/liangyu/miniconda3/envs/mmlab2/lib/python3.9/site-packages (from mmcv>=2.0.0) (1.24.3)\n",
      "Requirement already satisfied: packaging in /home/liangyu/miniconda3/envs/mmlab2/lib/python3.9/site-packages (from mmcv>=2.0.0) (23.1)\n",
      "Requirement already satisfied: Pillow in /home/liangyu/miniconda3/envs/mmlab2/lib/python3.9/site-packages (from mmcv>=2.0.0) (9.5.0)\n",
      "Requirement already satisfied: pyyaml in /home/liangyu/miniconda3/envs/mmlab2/lib/python3.9/site-packages (from mmcv>=2.0.0) (6.0)\n",
      "Requirement already satisfied: yapf in /home/liangyu/miniconda3/envs/mmlab2/lib/python3.9/site-packages (from mmcv>=2.0.0) (0.33.0)\n",
      "Requirement already satisfied: opencv-python>=3 in /home/liangyu/miniconda3/envs/mmlab2/lib/python3.9/site-packages (from mmcv>=2.0.0) (4.7.0.72)\n",
      "Requirement already satisfied: matplotlib in /home/liangyu/miniconda3/envs/mmlab2/lib/python3.9/site-packages (from mmengine>=0.2.0->mmcv>=2.0.0) (3.7.1)\n",
      "Requirement already satisfied: rich in /home/liangyu/miniconda3/envs/mmlab2/lib/python3.9/site-packages (from mmengine>=0.2.0->mmcv>=2.0.0) (13.3.5)\n",
      "Requirement already satisfied: termcolor in /home/liangyu/miniconda3/envs/mmlab2/lib/python3.9/site-packages (from mmengine>=0.2.0->mmcv>=2.0.0) (2.3.0)\n",
      "Requirement already satisfied: tomli>=2.0.1 in /home/liangyu/miniconda3/envs/mmlab2/lib/python3.9/site-packages (from yapf->mmcv>=2.0.0) (2.0.1)\n",
      "Requirement already satisfied: contourpy>=1.0.1 in /home/liangyu/miniconda3/envs/mmlab2/lib/python3.9/site-packages (from matplotlib->mmengine>=0.2.0->mmcv>=2.0.0) (1.0.7)\n",
      "Requirement already satisfied: cycler>=0.10 in /home/liangyu/miniconda3/envs/mmlab2/lib/python3.9/site-packages (from matplotlib->mmengine>=0.2.0->mmcv>=2.0.0) (0.11.0)\n",
      "Requirement already satisfied: fonttools>=4.22.0 in /home/liangyu/miniconda3/envs/mmlab2/lib/python3.9/site-packages (from matplotlib->mmengine>=0.2.0->mmcv>=2.0.0) (4.39.4)\n",
      "Requirement already satisfied: kiwisolver>=1.0.1 in /home/liangyu/miniconda3/envs/mmlab2/lib/python3.9/site-packages (from matplotlib->mmengine>=0.2.0->mmcv>=2.0.0) (1.4.4)\n",
      "Requirement already satisfied: pyparsing>=2.3.1 in /home/liangyu/miniconda3/envs/mmlab2/lib/python3.9/site-packages (from matplotlib->mmengine>=0.2.0->mmcv>=2.0.0) (3.0.9)\n",
      "Requirement already satisfied: python-dateutil>=2.7 in /home/liangyu/miniconda3/envs/mmlab2/lib/python3.9/site-packages (from matplotlib->mmengine>=0.2.0->mmcv>=2.0.0) (2.8.2)\n",
      "Requirement already satisfied: importlib-resources>=3.2.0 in /home/liangyu/miniconda3/envs/mmlab2/lib/python3.9/site-packages (from matplotlib->mmengine>=0.2.0->mmcv>=2.0.0) (5.12.0)\n",
      "Requirement already satisfied: markdown-it-py<3.0.0,>=2.2.0 in /home/liangyu/miniconda3/envs/mmlab2/lib/python3.9/site-packages (from rich->mmengine>=0.2.0->mmcv>=2.0.0) (2.2.0)\n",
      "Requirement already satisfied: pygments<3.0.0,>=2.13.0 in /home/liangyu/miniconda3/envs/mmlab2/lib/python3.9/site-packages (from rich->mmengine>=0.2.0->mmcv>=2.0.0) (2.15.1)\n",
      "Requirement already satisfied: zipp>=3.1.0 in /home/liangyu/miniconda3/envs/mmlab2/lib/python3.9/site-packages (from importlib-resources>=3.2.0->matplotlib->mmengine>=0.2.0->mmcv>=2.0.0) (3.15.0)\n",
      "Requirement already satisfied: mdurl~=0.1 in /home/liangyu/miniconda3/envs/mmlab2/lib/python3.9/site-packages (from markdown-it-py<3.0.0,>=2.2.0->rich->mmengine>=0.2.0->mmcv>=2.0.0) (0.1.2)\n",
      "Requirement already satisfied: six>=1.5 in /home/liangyu/miniconda3/envs/mmlab2/lib/python3.9/site-packages (from python-dateutil>=2.7->matplotlib->mmengine>=0.2.0->mmcv>=2.0.0) (1.16.0)\n",
      "\u001b[33mWARNING: Ignoring invalid distribution -orch (/home/liangyu/miniconda3/envs/mmlab2/lib/python3.9/site-packages)\u001b[0m\u001b[33m\n",
      "\u001b[0m/home/liangyu/miniconda3/envs/mmlab2/lib/python3.9/site-packages/setuptools/command/install.py:34: SetuptoolsDeprecationWarning: setup.py install is deprecated. Use build and pip and other standards-based tools.\n",
      "  warnings.warn(\n",
      "/home/liangyu/miniconda3/envs/mmlab2/lib/python3.9/site-packages/setuptools/command/install.py:34: SetuptoolsDeprecationWarning: setup.py install is deprecated. Use build and pip and other standards-based tools.\n",
      "  warnings.warn(\n",
      "\u001b[33mWARNING: Ignoring invalid distribution -orch (/home/liangyu/miniconda3/envs/mmlab2/lib/python3.9/site-packages)\u001b[0m\u001b[33m\n",
      "\u001b[0mLooking in links: https://download.openmmlab.com/mmcv/dist/cu113/torch1.10.0/index.html\n",
      "Requirement already satisfied: mmengine in /home/liangyu/miniconda3/envs/mmlab2/lib/python3.9/site-packages (0.7.3)\n",
      "Requirement already satisfied: addict in /home/liangyu/miniconda3/envs/mmlab2/lib/python3.9/site-packages (from mmengine) (2.4.0)\n",
      "Requirement already satisfied: matplotlib in /home/liangyu/miniconda3/envs/mmlab2/lib/python3.9/site-packages (from mmengine) (3.7.1)\n",
      "Requirement already satisfied: numpy in /home/liangyu/miniconda3/envs/mmlab2/lib/python3.9/site-packages (from mmengine) (1.24.3)\n",
      "Requirement already satisfied: pyyaml in /home/liangyu/miniconda3/envs/mmlab2/lib/python3.9/site-packages (from mmengine) (6.0)\n",
      "Requirement already satisfied: rich in /home/liangyu/miniconda3/envs/mmlab2/lib/python3.9/site-packages (from mmengine) (13.3.5)\n",
      "Requirement already satisfied: termcolor in /home/liangyu/miniconda3/envs/mmlab2/lib/python3.9/site-packages (from mmengine) (2.3.0)\n",
      "Requirement already satisfied: yapf in /home/liangyu/miniconda3/envs/mmlab2/lib/python3.9/site-packages (from mmengine) (0.33.0)\n",
      "Requirement already satisfied: opencv-python>=3 in /home/liangyu/miniconda3/envs/mmlab2/lib/python3.9/site-packages (from mmengine) (4.7.0.72)\n",
      "Requirement already satisfied: contourpy>=1.0.1 in /home/liangyu/miniconda3/envs/mmlab2/lib/python3.9/site-packages (from matplotlib->mmengine) (1.0.7)\n",
      "Requirement already satisfied: cycler>=0.10 in /home/liangyu/miniconda3/envs/mmlab2/lib/python3.9/site-packages (from matplotlib->mmengine) (0.11.0)\n",
      "Requirement already satisfied: fonttools>=4.22.0 in /home/liangyu/miniconda3/envs/mmlab2/lib/python3.9/site-packages (from matplotlib->mmengine) (4.39.4)\n",
      "Requirement already satisfied: kiwisolver>=1.0.1 in /home/liangyu/miniconda3/envs/mmlab2/lib/python3.9/site-packages (from matplotlib->mmengine) (1.4.4)\n",
      "Requirement already satisfied: packaging>=20.0 in /home/liangyu/miniconda3/envs/mmlab2/lib/python3.9/site-packages (from matplotlib->mmengine) (23.1)\n",
      "Requirement already satisfied: pillow>=6.2.0 in /home/liangyu/miniconda3/envs/mmlab2/lib/python3.9/site-packages (from matplotlib->mmengine) (9.5.0)\n",
      "Requirement already satisfied: pyparsing>=2.3.1 in /home/liangyu/miniconda3/envs/mmlab2/lib/python3.9/site-packages (from matplotlib->mmengine) (3.0.9)\n",
      "Requirement already satisfied: python-dateutil>=2.7 in /home/liangyu/miniconda3/envs/mmlab2/lib/python3.9/site-packages (from matplotlib->mmengine) (2.8.2)\n",
      "Requirement already satisfied: importlib-resources>=3.2.0 in /home/liangyu/miniconda3/envs/mmlab2/lib/python3.9/site-packages (from matplotlib->mmengine) (5.12.0)\n",
      "Requirement already satisfied: markdown-it-py<3.0.0,>=2.2.0 in /home/liangyu/miniconda3/envs/mmlab2/lib/python3.9/site-packages (from rich->mmengine) (2.2.0)\n",
      "Requirement already satisfied: pygments<3.0.0,>=2.13.0 in /home/liangyu/miniconda3/envs/mmlab2/lib/python3.9/site-packages (from rich->mmengine) (2.15.1)\n",
      "Requirement already satisfied: tomli>=2.0.1 in /home/liangyu/miniconda3/envs/mmlab2/lib/python3.9/site-packages (from yapf->mmengine) (2.0.1)\n",
      "Requirement already satisfied: zipp>=3.1.0 in /home/liangyu/miniconda3/envs/mmlab2/lib/python3.9/site-packages (from importlib-resources>=3.2.0->matplotlib->mmengine) (3.15.0)\n",
      "Requirement already satisfied: mdurl~=0.1 in /home/liangyu/miniconda3/envs/mmlab2/lib/python3.9/site-packages (from markdown-it-py<3.0.0,>=2.2.0->rich->mmengine) (0.1.2)\n",
      "Requirement already satisfied: six>=1.5 in /home/liangyu/miniconda3/envs/mmlab2/lib/python3.9/site-packages (from python-dateutil>=2.7->matplotlib->mmengine) (1.16.0)\n",
      "\u001b[33mWARNING: Ignoring invalid distribution -orch (/home/liangyu/miniconda3/envs/mmlab2/lib/python3.9/site-packages)\u001b[0m\u001b[33m\n",
      "\u001b[0m/home/liangyu/miniconda3/envs/mmlab2/lib/python3.9/site-packages/setuptools/command/install.py:34: SetuptoolsDeprecationWarning: setup.py install is deprecated. Use build and pip and other standards-based tools.\n",
      "  warnings.warn(\n",
      "/home/liangyu/miniconda3/envs/mmlab2/lib/python3.9/site-packages/setuptools/command/install.py:34: SetuptoolsDeprecationWarning: setup.py install is deprecated. Use build and pip and other standards-based tools.\n",
      "  warnings.warn(\n",
      "\u001b[33mWARNING: Ignoring invalid distribution -orch (/home/liangyu/miniconda3/envs/mmlab2/lib/python3.9/site-packages)\u001b[0m\u001b[33m\n",
      "\u001b[0mLooking in links: https://download.openmmlab.com/mmcv/dist/cu113/torch1.10.0/index.html\n",
      "Requirement already satisfied: mmagic in /home/liangyu/code/mmlab2/2023AI/0616 copy/mmagic (1.0.2.dev0)\n",
      "Requirement already satisfied: av in /home/liangyu/miniconda3/envs/mmlab2/lib/python3.9/site-packages (from mmagic) (10.0.0)\n",
      "Requirement already satisfied: click in /home/liangyu/miniconda3/envs/mmlab2/lib/python3.9/site-packages (from mmagic) (8.1.3)\n",
      "Requirement already satisfied: controlnet_aux in /home/liangyu/miniconda3/envs/mmlab2/lib/python3.9/site-packages (from mmagic) (0.0.5)\n",
      "Requirement already satisfied: diffusers>=0.12.0 in /home/liangyu/miniconda3/envs/mmlab2/lib/python3.9/site-packages (from mmagic) (0.14.0)\n",
      "Requirement already satisfied: einops in /home/liangyu/miniconda3/envs/mmlab2/lib/python3.9/site-packages (from mmagic) (0.6.1)\n",
      "Requirement already satisfied: face-alignment<=1.3.4 in /home/liangyu/miniconda3/envs/mmlab2/lib/python3.9/site-packages (from mmagic) (1.3.4)\n",
      "Requirement already satisfied: facexlib in /home/liangyu/miniconda3/envs/mmlab2/lib/python3.9/site-packages (from mmagic) (0.3.0)\n",
      "Requirement already satisfied: lmdb in /home/liangyu/miniconda3/envs/mmlab2/lib/python3.9/site-packages (from mmagic) (1.4.1)\n",
      "Requirement already satisfied: lpips in /home/liangyu/miniconda3/envs/mmlab2/lib/python3.9/site-packages (from mmagic) (0.1.4)\n",
      "Requirement already satisfied: mediapipe in /home/liangyu/miniconda3/envs/mmlab2/lib/python3.9/site-packages (from mmagic) (0.10.1)\n",
      "Requirement already satisfied: numpy in /home/liangyu/miniconda3/envs/mmlab2/lib/python3.9/site-packages (from mmagic) (1.24.3)\n",
      "Requirement already satisfied: opencv-python!=4.5.5.62,!=4.5.5.64 in /home/liangyu/miniconda3/envs/mmlab2/lib/python3.9/site-packages (from mmagic) (4.7.0.72)\n",
      "Requirement already satisfied: pandas in /home/liangyu/miniconda3/envs/mmlab2/lib/python3.9/site-packages (from mmagic) (2.0.2)\n",
      "Requirement already satisfied: Pillow in /home/liangyu/miniconda3/envs/mmlab2/lib/python3.9/site-packages (from mmagic) (9.5.0)\n",
      "Requirement already satisfied: resize_right in /home/liangyu/miniconda3/envs/mmlab2/lib/python3.9/site-packages (from mmagic) (0.0.2)\n",
      "Requirement already satisfied: tensorboard in /home/liangyu/miniconda3/envs/mmlab2/lib/python3.9/site-packages (from mmagic) (2.13.0)\n",
      "Requirement already satisfied: transformers>=4.27.4 in /home/liangyu/miniconda3/envs/mmlab2/lib/python3.9/site-packages (from mmagic) (4.30.0)\n",
      "Requirement already satisfied: importlib-metadata in /home/liangyu/miniconda3/envs/mmlab2/lib/python3.9/site-packages (from diffusers>=0.12.0->mmagic) (6.6.0)\n",
      "Requirement already satisfied: filelock in /home/liangyu/miniconda3/envs/mmlab2/lib/python3.9/site-packages (from diffusers>=0.12.0->mmagic) (3.12.0)\n",
      "Requirement already satisfied: huggingface-hub>=0.10.0 in /home/liangyu/miniconda3/envs/mmlab2/lib/python3.9/site-packages (from diffusers>=0.12.0->mmagic) (0.15.1)\n",
      "Requirement already satisfied: regex!=2019.12.17 in /home/liangyu/miniconda3/envs/mmlab2/lib/python3.9/site-packages (from diffusers>=0.12.0->mmagic) (2023.6.3)\n",
      "Requirement already satisfied: requests in /home/liangyu/miniconda3/envs/mmlab2/lib/python3.9/site-packages (from diffusers>=0.12.0->mmagic) (2.31.0)\n",
      "Requirement already satisfied: torch in /home/liangyu/miniconda3/envs/mmlab2/lib/python3.9/site-packages (from face-alignment<=1.3.4->mmagic) (1.10.1+cu113)\n",
      "Requirement already satisfied: scipy>=0.17 in /home/liangyu/miniconda3/envs/mmlab2/lib/python3.9/site-packages (from face-alignment<=1.3.4->mmagic) (1.10.1)\n",
      "Requirement already satisfied: scikit-image in /home/liangyu/miniconda3/envs/mmlab2/lib/python3.9/site-packages (from face-alignment<=1.3.4->mmagic) (0.21.0)\n",
      "Requirement already satisfied: tqdm in /home/liangyu/miniconda3/envs/mmlab2/lib/python3.9/site-packages (from face-alignment<=1.3.4->mmagic) (4.65.0)\n",
      "Requirement already satisfied: numba in /home/liangyu/miniconda3/envs/mmlab2/lib/python3.9/site-packages (from face-alignment<=1.3.4->mmagic) (0.57.0)\n",
      "Requirement already satisfied: packaging>=20.0 in /home/liangyu/miniconda3/envs/mmlab2/lib/python3.9/site-packages (from transformers>=4.27.4->mmagic) (23.1)\n",
      "Requirement already satisfied: pyyaml>=5.1 in /home/liangyu/miniconda3/envs/mmlab2/lib/python3.9/site-packages (from transformers>=4.27.4->mmagic) (6.0)\n",
      "Requirement already satisfied: tokenizers!=0.11.3,<0.14,>=0.11.1 in /home/liangyu/miniconda3/envs/mmlab2/lib/python3.9/site-packages (from transformers>=4.27.4->mmagic) (0.13.3)\n",
      "Requirement already satisfied: safetensors>=0.3.1 in /home/liangyu/miniconda3/envs/mmlab2/lib/python3.9/site-packages (from transformers>=4.27.4->mmagic) (0.3.1)\n",
      "Requirement already satisfied: timm in /home/liangyu/miniconda3/envs/mmlab2/lib/python3.9/site-packages (from controlnet_aux->mmagic) (0.9.2)\n",
      "Requirement already satisfied: torchvision in /home/liangyu/miniconda3/envs/mmlab2/lib/python3.9/site-packages (from controlnet_aux->mmagic) (0.11.2+cu113)\n",
      "Requirement already satisfied: filterpy in /home/liangyu/miniconda3/envs/mmlab2/lib/python3.9/site-packages (from facexlib->mmagic) (1.4.5)\n",
      "Requirement already satisfied: absl-py in /home/liangyu/miniconda3/envs/mmlab2/lib/python3.9/site-packages (from mediapipe->mmagic) (1.4.0)\n",
      "Requirement already satisfied: attrs>=19.1.0 in /home/liangyu/miniconda3/envs/mmlab2/lib/python3.9/site-packages (from mediapipe->mmagic) (23.1.0)\n",
      "Requirement already satisfied: flatbuffers>=2.0 in /home/liangyu/miniconda3/envs/mmlab2/lib/python3.9/site-packages (from mediapipe->mmagic) (23.5.26)\n",
      "Requirement already satisfied: matplotlib in /home/liangyu/miniconda3/envs/mmlab2/lib/python3.9/site-packages (from mediapipe->mmagic) (3.7.1)\n",
      "Requirement already satisfied: opencv-contrib-python in /home/liangyu/miniconda3/envs/mmlab2/lib/python3.9/site-packages (from mediapipe->mmagic) (4.7.0.72)\n",
      "Requirement already satisfied: protobuf<4,>=3.11 in /home/liangyu/miniconda3/envs/mmlab2/lib/python3.9/site-packages (from mediapipe->mmagic) (3.20.3)\n",
      "Requirement already satisfied: sounddevice>=0.4.4 in /home/liangyu/miniconda3/envs/mmlab2/lib/python3.9/site-packages (from mediapipe->mmagic) (0.4.6)\n",
      "Requirement already satisfied: python-dateutil>=2.8.2 in /home/liangyu/miniconda3/envs/mmlab2/lib/python3.9/site-packages (from pandas->mmagic) (2.8.2)\n",
      "Requirement already satisfied: pytz>=2020.1 in /home/liangyu/miniconda3/envs/mmlab2/lib/python3.9/site-packages (from pandas->mmagic) (2023.3)\n",
      "Requirement already satisfied: tzdata>=2022.1 in /home/liangyu/miniconda3/envs/mmlab2/lib/python3.9/site-packages (from pandas->mmagic) (2023.3)\n",
      "Requirement already satisfied: grpcio>=1.48.2 in /home/liangyu/miniconda3/envs/mmlab2/lib/python3.9/site-packages (from tensorboard->mmagic) (1.54.2)\n",
      "Requirement already satisfied: google-auth<3,>=1.6.3 in /home/liangyu/miniconda3/envs/mmlab2/lib/python3.9/site-packages (from tensorboard->mmagic) (2.19.1)\n",
      "Requirement already satisfied: google-auth-oauthlib<1.1,>=0.5 in /home/liangyu/miniconda3/envs/mmlab2/lib/python3.9/site-packages (from tensorboard->mmagic) (1.0.0)\n",
      "Requirement already satisfied: markdown>=2.6.8 in /home/liangyu/miniconda3/envs/mmlab2/lib/python3.9/site-packages (from tensorboard->mmagic) (3.4.3)\n",
      "Requirement already satisfied: setuptools>=41.0.0 in /home/liangyu/miniconda3/envs/mmlab2/lib/python3.9/site-packages (from tensorboard->mmagic) (59.5.0)\n",
      "Requirement already satisfied: tensorboard-data-server<0.8.0,>=0.7.0 in /home/liangyu/miniconda3/envs/mmlab2/lib/python3.9/site-packages (from tensorboard->mmagic) (0.7.0)\n",
      "Requirement already satisfied: werkzeug>=1.0.1 in /home/liangyu/miniconda3/envs/mmlab2/lib/python3.9/site-packages (from tensorboard->mmagic) (2.3.6)\n",
      "Requirement already satisfied: wheel>=0.26 in /home/liangyu/miniconda3/envs/mmlab2/lib/python3.9/site-packages (from tensorboard->mmagic) (0.40.0)\n",
      "Requirement already satisfied: cachetools<6.0,>=2.0.0 in /home/liangyu/miniconda3/envs/mmlab2/lib/python3.9/site-packages (from google-auth<3,>=1.6.3->tensorboard->mmagic) (5.3.1)\n",
      "Requirement already satisfied: pyasn1-modules>=0.2.1 in /home/liangyu/miniconda3/envs/mmlab2/lib/python3.9/site-packages (from google-auth<3,>=1.6.3->tensorboard->mmagic) (0.3.0)\n",
      "Requirement already satisfied: rsa<5,>=3.1.4 in /home/liangyu/miniconda3/envs/mmlab2/lib/python3.9/site-packages (from google-auth<3,>=1.6.3->tensorboard->mmagic) (4.9)\n",
      "Requirement already satisfied: six>=1.9.0 in /home/liangyu/miniconda3/envs/mmlab2/lib/python3.9/site-packages (from google-auth<3,>=1.6.3->tensorboard->mmagic) (1.16.0)\n",
      "Requirement already satisfied: urllib3<2.0 in /home/liangyu/miniconda3/envs/mmlab2/lib/python3.9/site-packages (from google-auth<3,>=1.6.3->tensorboard->mmagic) (1.26.16)\n",
      "Requirement already satisfied: requests-oauthlib>=0.7.0 in /home/liangyu/miniconda3/envs/mmlab2/lib/python3.9/site-packages (from google-auth-oauthlib<1.1,>=0.5->tensorboard->mmagic) (1.3.1)\n",
      "Requirement already satisfied: fsspec in /home/liangyu/miniconda3/envs/mmlab2/lib/python3.9/site-packages (from huggingface-hub>=0.10.0->diffusers>=0.12.0->mmagic) (2023.5.0)\n",
      "Requirement already satisfied: typing-extensions>=3.7.4.3 in /home/liangyu/miniconda3/envs/mmlab2/lib/python3.9/site-packages (from huggingface-hub>=0.10.0->diffusers>=0.12.0->mmagic) (4.6.2)\n",
      "Requirement already satisfied: zipp>=0.5 in /home/liangyu/miniconda3/envs/mmlab2/lib/python3.9/site-packages (from importlib-metadata->diffusers>=0.12.0->mmagic) (3.15.0)\n",
      "Requirement already satisfied: charset-normalizer<4,>=2 in /home/liangyu/miniconda3/envs/mmlab2/lib/python3.9/site-packages (from requests->diffusers>=0.12.0->mmagic) (3.1.0)\n",
      "Requirement already satisfied: idna<4,>=2.5 in /home/liangyu/miniconda3/envs/mmlab2/lib/python3.9/site-packages (from requests->diffusers>=0.12.0->mmagic) (3.4)\n",
      "Requirement already satisfied: certifi>=2017.4.17 in /home/liangyu/miniconda3/envs/mmlab2/lib/python3.9/site-packages (from requests->diffusers>=0.12.0->mmagic) (2023.5.7)\n",
      "Requirement already satisfied: CFFI>=1.0 in /home/liangyu/miniconda3/envs/mmlab2/lib/python3.9/site-packages (from sounddevice>=0.4.4->mediapipe->mmagic) (1.15.1)\n",
      "Requirement already satisfied: MarkupSafe>=2.1.1 in /home/liangyu/miniconda3/envs/mmlab2/lib/python3.9/site-packages (from werkzeug>=1.0.1->tensorboard->mmagic) (2.1.2)\n",
      "Requirement already satisfied: contourpy>=1.0.1 in /home/liangyu/miniconda3/envs/mmlab2/lib/python3.9/site-packages (from matplotlib->mediapipe->mmagic) (1.0.7)\n",
      "Requirement already satisfied: cycler>=0.10 in /home/liangyu/miniconda3/envs/mmlab2/lib/python3.9/site-packages (from matplotlib->mediapipe->mmagic) (0.11.0)\n",
      "Requirement already satisfied: fonttools>=4.22.0 in /home/liangyu/miniconda3/envs/mmlab2/lib/python3.9/site-packages (from matplotlib->mediapipe->mmagic) (4.39.4)\n",
      "Requirement already satisfied: kiwisolver>=1.0.1 in /home/liangyu/miniconda3/envs/mmlab2/lib/python3.9/site-packages (from matplotlib->mediapipe->mmagic) (1.4.4)\n",
      "Requirement already satisfied: pyparsing>=2.3.1 in /home/liangyu/miniconda3/envs/mmlab2/lib/python3.9/site-packages (from matplotlib->mediapipe->mmagic) (3.0.9)\n",
      "Requirement already satisfied: importlib-resources>=3.2.0 in /home/liangyu/miniconda3/envs/mmlab2/lib/python3.9/site-packages (from matplotlib->mediapipe->mmagic) (5.12.0)\n",
      "Requirement already satisfied: llvmlite<0.41,>=0.40.0dev0 in /home/liangyu/miniconda3/envs/mmlab2/lib/python3.9/site-packages (from numba->face-alignment<=1.3.4->mmagic) (0.40.1rc1)\n",
      "Requirement already satisfied: networkx>=2.8 in /home/liangyu/miniconda3/envs/mmlab2/lib/python3.9/site-packages (from scikit-image->face-alignment<=1.3.4->mmagic) (3.1)\n",
      "Requirement already satisfied: imageio>=2.27 in /home/liangyu/miniconda3/envs/mmlab2/lib/python3.9/site-packages (from scikit-image->face-alignment<=1.3.4->mmagic) (2.30.0)\n",
      "Requirement already satisfied: tifffile>=2022.8.12 in /home/liangyu/miniconda3/envs/mmlab2/lib/python3.9/site-packages (from scikit-image->face-alignment<=1.3.4->mmagic) (2023.4.12)\n",
      "Requirement already satisfied: PyWavelets>=1.1.1 in /home/liangyu/miniconda3/envs/mmlab2/lib/python3.9/site-packages (from scikit-image->face-alignment<=1.3.4->mmagic) (1.4.1)\n",
      "Requirement already satisfied: lazy_loader>=0.2 in /home/liangyu/miniconda3/envs/mmlab2/lib/python3.9/site-packages (from scikit-image->face-alignment<=1.3.4->mmagic) (0.2)\n",
      "Requirement already satisfied: pycparser in /home/liangyu/miniconda3/envs/mmlab2/lib/python3.9/site-packages (from CFFI>=1.0->sounddevice>=0.4.4->mediapipe->mmagic) (2.21)\n",
      "Requirement already satisfied: pyasn1<0.6.0,>=0.4.6 in /home/liangyu/miniconda3/envs/mmlab2/lib/python3.9/site-packages (from pyasn1-modules>=0.2.1->google-auth<3,>=1.6.3->tensorboard->mmagic) (0.5.0)\n",
      "Requirement already satisfied: oauthlib>=3.0.0 in /home/liangyu/miniconda3/envs/mmlab2/lib/python3.9/site-packages (from requests-oauthlib>=0.7.0->google-auth-oauthlib<1.1,>=0.5->tensorboard->mmagic) (3.2.2)\n",
      "\u001b[33mWARNING: Ignoring invalid distribution -orch (/home/liangyu/miniconda3/envs/mmlab2/lib/python3.9/site-packages)\u001b[0m\u001b[33m\n",
      "\u001b[0m/home/liangyu/miniconda3/envs/mmlab2/lib/python3.9/site-packages/setuptools/command/install.py:34: SetuptoolsDeprecationWarning: setup.py install is deprecated. Use build and pip and other standards-based tools.\n",
      "  warnings.warn(\n"
     ]
    }
   ],
   "source": [
    "!pip3 install openmim\n",
    "!mim install 'mmcv>=2.0.0'\n",
    "!mim install 'mmengine'\n",
    "!mim install 'mmagic'"
   ]
  },
  {
   "cell_type": "code",
   "execution_count": 11,
   "metadata": {},
   "outputs": [
    {
     "name": "stderr",
     "output_type": "stream",
     "text": [
      "Cannot initialize model with low cpu memory usage because `accelerate` was not found in the environment. Defaulting to `low_cpu_mem_usage=False`. It is strongly recommended to install `accelerate` for faster and less memory-intense model loading. You can do so with: \n",
      "```\n",
      "pip install accelerate\n",
      "```\n",
      ".\n",
      "Cannot initialize model with low cpu memory usage because `accelerate` was not found in the environment. Defaulting to `low_cpu_mem_usage=False`. It is strongly recommended to install `accelerate` for faster and less memory-intense model loading. You can do so with: \n",
      "```\n",
      "pip install accelerate\n",
      "```\n",
      ".\n"
     ]
    },
    {
     "name": "stdout",
     "output_type": "stream",
     "text": [
      "06/16 15:34:11 - mmengine - \u001b[4m\u001b[97mINFO\u001b[0m - Creating runwayml/stable-diffusion-v1-5 by 'HuggingFace'\n",
      "06/16 15:34:11 - mmengine - \u001b[5m\u001b[4m\u001b[33mWARNING\u001b[0m - Failed to search registry with scope \"mmagic\" in the \"function\" registry tree. As a workaround, the current \"function\" registry in \"mmengine\" is used to build instance. This may cause unexpected failure when running the built modules. Please check whether \"mmagic\" is a correct scope, or whether the registry is initialized.\n"
     ]
    },
    {
     "data": {
      "application/vnd.jupyter.widget-view+json": {
       "model_id": "b7026872356140548f07464be7e75bc8",
       "version_major": 2,
       "version_minor": 0
      },
      "text/plain": [
       "  0%|          | 0/50 [00:00<?, ?it/s]"
      ]
     },
     "metadata": {},
     "output_type": "display_data"
    },
    {
     "data": {
      "text/plain": [
       "({'infer_results': <PIL.Image.Image image mode=RGB size=512x512>},\n",
       " <PIL.Image.Image image mode=RGB size=512x512>)"
      ]
     },
     "execution_count": 11,
     "metadata": {},
     "output_type": "execute_result"
    }
   ],
   "source": [
    "from mmagic.apis import MMagicInferencer\n",
    "sd_inferencer = MMagicInferencer(model_name='stable_diffusion')\n",
    "text_prompts = 'A panda is having dinner at KFC'\n",
    "result_out_dir = 'output/sd_res.png'\n",
    "sd_inferencer.infer(text=text_prompts, result_out_dir=result_out_dir)"
   ]
  },
  {
   "cell_type": "code",
   "execution_count": 13,
   "id": "f2bd6cf6",
   "metadata": {},
   "outputs": [
    {
     "data": {
      "text/plain": [
       "'1.0.2dev0'"
      ]
     },
     "execution_count": 13,
     "metadata": {},
     "output_type": "execute_result"
    }
   ],
   "source": [
    "import mmagic\n",
    "mmagic.__version__"
   ]
  }
 ],
 "metadata": {
  "kernelspec": {
   "display_name": "Python 3 (ipykernel)",
   "language": "python",
   "name": "python3"
  },
  "language_info": {
   "codemirror_mode": {
    "name": "ipython",
    "version": 3
   },
   "file_extension": ".py",
   "mimetype": "text/x-python",
   "name": "python",
   "nbconvert_exporter": "python",
   "pygments_lexer": "ipython3",
   "version": "3.9.16"
  }
 },
 "nbformat": 4,
 "nbformat_minor": 5
}
