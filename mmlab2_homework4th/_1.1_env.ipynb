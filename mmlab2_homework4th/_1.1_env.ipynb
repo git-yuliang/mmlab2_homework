{
 "cells": [
  {
   "attachments": {},
   "cell_type": "markdown",
   "id": "283db6c5-7f78-4a9b-8212-f61269bd9a2d",
   "metadata": {},
   "source": [
    "# MMDETECTION-训练\n",
    "\n",
    "liangyu 20230607"
   ]
  },
  {
   "cell_type": "code",
   "execution_count": 1,
   "id": "aa1757c7",
   "metadata": {},
   "outputs": [
    {
     "name": "stdout",
     "output_type": "stream",
     "text": [
      "1.10.1+cu113\n"
     ]
    }
   ],
   "source": [
    "import torch\n",
    "print(torch.__version__)\n",
    "device=torch.device(\"cuda:0\" if torch.cuda.is_available() else \"cpu\")"
   ]
  },
  {
   "cell_type": "code",
   "execution_count": 2,
   "id": "59582c84",
   "metadata": {},
   "outputs": [],
   "source": [
    "# # 安装Pytorch\n",
    "#!pip3 install install torch==1.10.1+cu113 torchvision==0.11.2+cu113 torchaudio==0.10.1+cu113 -f https://download.pytorch.org/whl/cu113/torch_stable.html"
   ]
  },
  {
   "cell_type": "code",
   "execution_count": 3,
   "id": "69fc3a11",
   "metadata": {},
   "outputs": [],
   "source": [
    "# # 安装Pytorch\n",
    "# !pip3 install install torch   torchvision  torchaudio "
   ]
  },
  {
   "cell_type": "code",
   "execution_count": 4,
   "id": "cf6d9e89",
   "metadata": {},
   "outputs": [
    {
     "name": "stdout",
     "output_type": "stream",
     "text": [
      "\u001b[33mWARNING: Ignoring invalid distribution -orch (/home/liangyu/miniconda3/envs/mmlab2/lib/python3.9/site-packages)\u001b[0m\u001b[33m\n",
      "\u001b[0mRequirement already satisfied: openmim in /home/liangyu/miniconda3/envs/mmlab2/lib/python3.9/site-packages (0.3.7)\n",
      "Requirement already satisfied: Click in /home/liangyu/miniconda3/envs/mmlab2/lib/python3.9/site-packages (from openmim) (8.1.3)\n",
      "Requirement already satisfied: colorama in /home/liangyu/miniconda3/envs/mmlab2/lib/python3.9/site-packages (from openmim) (0.4.6)\n",
      "Requirement already satisfied: model-index in /home/liangyu/miniconda3/envs/mmlab2/lib/python3.9/site-packages (from openmim) (0.1.11)\n",
      "Requirement already satisfied: pandas in /home/liangyu/miniconda3/envs/mmlab2/lib/python3.9/site-packages (from openmim) (2.0.2)\n",
      "Requirement already satisfied: pip>=19.3 in /home/liangyu/miniconda3/envs/mmlab2/lib/python3.9/site-packages (from openmim) (23.1.2)\n",
      "Requirement already satisfied: requests in /home/liangyu/miniconda3/envs/mmlab2/lib/python3.9/site-packages (from openmim) (2.31.0)\n",
      "Requirement already satisfied: rich in /home/liangyu/miniconda3/envs/mmlab2/lib/python3.9/site-packages (from openmim) (13.3.5)\n",
      "Requirement already satisfied: tabulate in /home/liangyu/miniconda3/envs/mmlab2/lib/python3.9/site-packages (from openmim) (0.9.0)\n",
      "Requirement already satisfied: pyyaml in /home/liangyu/miniconda3/envs/mmlab2/lib/python3.9/site-packages (from model-index->openmim) (6.0)\n",
      "Requirement already satisfied: markdown in /home/liangyu/miniconda3/envs/mmlab2/lib/python3.9/site-packages (from model-index->openmim) (3.4.3)\n",
      "Requirement already satisfied: ordered-set in /home/liangyu/miniconda3/envs/mmlab2/lib/python3.9/site-packages (from model-index->openmim) (4.1.0)\n",
      "Requirement already satisfied: python-dateutil>=2.8.2 in /home/liangyu/miniconda3/envs/mmlab2/lib/python3.9/site-packages (from pandas->openmim) (2.8.2)\n",
      "Requirement already satisfied: pytz>=2020.1 in /home/liangyu/miniconda3/envs/mmlab2/lib/python3.9/site-packages (from pandas->openmim) (2023.3)\n",
      "Requirement already satisfied: tzdata>=2022.1 in /home/liangyu/miniconda3/envs/mmlab2/lib/python3.9/site-packages (from pandas->openmim) (2023.3)\n",
      "Requirement already satisfied: numpy>=1.20.3 in /home/liangyu/miniconda3/envs/mmlab2/lib/python3.9/site-packages (from pandas->openmim) (1.24.3)\n",
      "Requirement already satisfied: charset-normalizer<4,>=2 in /home/liangyu/miniconda3/envs/mmlab2/lib/python3.9/site-packages (from requests->openmim) (3.1.0)\n",
      "Requirement already satisfied: idna<4,>=2.5 in /home/liangyu/miniconda3/envs/mmlab2/lib/python3.9/site-packages (from requests->openmim) (3.4)\n",
      "Requirement already satisfied: urllib3<3,>=1.21.1 in /home/liangyu/miniconda3/envs/mmlab2/lib/python3.9/site-packages (from requests->openmim) (1.26.16)\n",
      "Requirement already satisfied: certifi>=2017.4.17 in /home/liangyu/miniconda3/envs/mmlab2/lib/python3.9/site-packages (from requests->openmim) (2023.5.7)\n",
      "Requirement already satisfied: markdown-it-py<3.0.0,>=2.2.0 in /home/liangyu/miniconda3/envs/mmlab2/lib/python3.9/site-packages (from rich->openmim) (2.2.0)\n",
      "Requirement already satisfied: pygments<3.0.0,>=2.13.0 in /home/liangyu/miniconda3/envs/mmlab2/lib/python3.9/site-packages (from rich->openmim) (2.15.1)\n",
      "Requirement already satisfied: mdurl~=0.1 in /home/liangyu/miniconda3/envs/mmlab2/lib/python3.9/site-packages (from markdown-it-py<3.0.0,>=2.2.0->rich->openmim) (0.1.2)\n",
      "Requirement already satisfied: six>=1.5 in /home/liangyu/miniconda3/envs/mmlab2/lib/python3.9/site-packages (from python-dateutil>=2.8.2->pandas->openmim) (1.16.0)\n",
      "Requirement already satisfied: importlib-metadata>=4.4 in /home/liangyu/miniconda3/envs/mmlab2/lib/python3.9/site-packages (from markdown->model-index->openmim) (6.6.0)\n",
      "Requirement already satisfied: zipp>=0.5 in /home/liangyu/miniconda3/envs/mmlab2/lib/python3.9/site-packages (from importlib-metadata>=4.4->markdown->model-index->openmim) (3.15.0)\n",
      "\u001b[33mWARNING: Ignoring invalid distribution -orch (/home/liangyu/miniconda3/envs/mmlab2/lib/python3.9/site-packages)\u001b[0m\u001b[33m\n",
      "\u001b[0m/home/liangyu/miniconda3/envs/mmlab2/lib/python3.9/site-packages/setuptools/command/install.py:34: SetuptoolsDeprecationWarning: setup.py install is deprecated. Use build and pip and other standards-based tools.\n",
      "  warnings.warn(\n",
      "\u001b[33mWARNING: Ignoring invalid distribution -orch (/home/liangyu/miniconda3/envs/mmlab2/lib/python3.9/site-packages)\u001b[0m\u001b[33m\n",
      "\u001b[0mLooking in links: https://download.openmmlab.com/mmcv/dist/cu113/torch1.10.0/index.html\n",
      "Requirement already satisfied: mmengine in /home/liangyu/miniconda3/envs/mmlab2/lib/python3.9/site-packages (0.7.3)\n",
      "Requirement already satisfied: addict in /home/liangyu/miniconda3/envs/mmlab2/lib/python3.9/site-packages (from mmengine) (2.4.0)\n",
      "Requirement already satisfied: matplotlib in /home/liangyu/miniconda3/envs/mmlab2/lib/python3.9/site-packages (from mmengine) (3.7.1)\n",
      "Requirement already satisfied: numpy in /home/liangyu/miniconda3/envs/mmlab2/lib/python3.9/site-packages (from mmengine) (1.24.3)\n",
      "Requirement already satisfied: pyyaml in /home/liangyu/miniconda3/envs/mmlab2/lib/python3.9/site-packages (from mmengine) (6.0)\n",
      "Requirement already satisfied: rich in /home/liangyu/miniconda3/envs/mmlab2/lib/python3.9/site-packages (from mmengine) (13.3.5)\n",
      "Requirement already satisfied: termcolor in /home/liangyu/miniconda3/envs/mmlab2/lib/python3.9/site-packages (from mmengine) (2.3.0)\n",
      "Requirement already satisfied: yapf in /home/liangyu/miniconda3/envs/mmlab2/lib/python3.9/site-packages (from mmengine) (0.33.0)\n",
      "Requirement already satisfied: opencv-python>=3 in /home/liangyu/miniconda3/envs/mmlab2/lib/python3.9/site-packages (from mmengine) (4.7.0.72)\n",
      "Requirement already satisfied: contourpy>=1.0.1 in /home/liangyu/miniconda3/envs/mmlab2/lib/python3.9/site-packages (from matplotlib->mmengine) (1.0.7)\n",
      "Requirement already satisfied: cycler>=0.10 in /home/liangyu/miniconda3/envs/mmlab2/lib/python3.9/site-packages (from matplotlib->mmengine) (0.11.0)\n",
      "Requirement already satisfied: fonttools>=4.22.0 in /home/liangyu/miniconda3/envs/mmlab2/lib/python3.9/site-packages (from matplotlib->mmengine) (4.39.4)\n",
      "Requirement already satisfied: kiwisolver>=1.0.1 in /home/liangyu/miniconda3/envs/mmlab2/lib/python3.9/site-packages (from matplotlib->mmengine) (1.4.4)\n",
      "Requirement already satisfied: packaging>=20.0 in /home/liangyu/miniconda3/envs/mmlab2/lib/python3.9/site-packages (from matplotlib->mmengine) (23.1)\n",
      "Requirement already satisfied: pillow>=6.2.0 in /home/liangyu/miniconda3/envs/mmlab2/lib/python3.9/site-packages (from matplotlib->mmengine) (9.5.0)\n",
      "Requirement already satisfied: pyparsing>=2.3.1 in /home/liangyu/miniconda3/envs/mmlab2/lib/python3.9/site-packages (from matplotlib->mmengine) (3.0.9)\n",
      "Requirement already satisfied: python-dateutil>=2.7 in /home/liangyu/miniconda3/envs/mmlab2/lib/python3.9/site-packages (from matplotlib->mmengine) (2.8.2)\n",
      "Requirement already satisfied: importlib-resources>=3.2.0 in /home/liangyu/miniconda3/envs/mmlab2/lib/python3.9/site-packages (from matplotlib->mmengine) (5.12.0)\n",
      "Requirement already satisfied: markdown-it-py<3.0.0,>=2.2.0 in /home/liangyu/miniconda3/envs/mmlab2/lib/python3.9/site-packages (from rich->mmengine) (2.2.0)\n",
      "Requirement already satisfied: pygments<3.0.0,>=2.13.0 in /home/liangyu/miniconda3/envs/mmlab2/lib/python3.9/site-packages (from rich->mmengine) (2.15.1)\n",
      "Requirement already satisfied: tomli>=2.0.1 in /home/liangyu/miniconda3/envs/mmlab2/lib/python3.9/site-packages (from yapf->mmengine) (2.0.1)\n",
      "Requirement already satisfied: zipp>=3.1.0 in /home/liangyu/miniconda3/envs/mmlab2/lib/python3.9/site-packages (from importlib-resources>=3.2.0->matplotlib->mmengine) (3.15.0)\n",
      "Requirement already satisfied: mdurl~=0.1 in /home/liangyu/miniconda3/envs/mmlab2/lib/python3.9/site-packages (from markdown-it-py<3.0.0,>=2.2.0->rich->mmengine) (0.1.2)\n",
      "Requirement already satisfied: six>=1.5 in /home/liangyu/miniconda3/envs/mmlab2/lib/python3.9/site-packages (from python-dateutil>=2.7->matplotlib->mmengine) (1.16.0)\n",
      "\u001b[33mWARNING: Ignoring invalid distribution -orch (/home/liangyu/miniconda3/envs/mmlab2/lib/python3.9/site-packages)\u001b[0m\u001b[33m\n",
      "\u001b[0m/home/liangyu/miniconda3/envs/mmlab2/lib/python3.9/site-packages/setuptools/command/install.py:34: SetuptoolsDeprecationWarning: setup.py install is deprecated. Use build and pip and other standards-based tools.\n",
      "  warnings.warn(\n",
      "/home/liangyu/miniconda3/envs/mmlab2/lib/python3.9/site-packages/setuptools/command/install.py:34: SetuptoolsDeprecationWarning: setup.py install is deprecated. Use build and pip and other standards-based tools.\n",
      "  warnings.warn(\n",
      "\u001b[33mWARNING: Ignoring invalid distribution -orch (/home/liangyu/miniconda3/envs/mmlab2/lib/python3.9/site-packages)\u001b[0m\u001b[33m\n",
      "\u001b[0mLooking in links: https://download.openmmlab.com/mmcv/dist/cu113/torch1.10.0/index.html\n",
      "Requirement already satisfied: mmcv==2.0.0.rc4 in /home/liangyu/miniconda3/envs/mmlab2/lib/python3.9/site-packages (2.0.0rc4)\n",
      "Requirement already satisfied: addict in /home/liangyu/miniconda3/envs/mmlab2/lib/python3.9/site-packages (from mmcv==2.0.0.rc4) (2.4.0)\n",
      "Requirement already satisfied: mmengine>=0.2.0 in /home/liangyu/miniconda3/envs/mmlab2/lib/python3.9/site-packages (from mmcv==2.0.0.rc4) (0.7.3)\n",
      "Requirement already satisfied: numpy in /home/liangyu/miniconda3/envs/mmlab2/lib/python3.9/site-packages (from mmcv==2.0.0.rc4) (1.24.3)\n",
      "Requirement already satisfied: packaging in /home/liangyu/miniconda3/envs/mmlab2/lib/python3.9/site-packages (from mmcv==2.0.0.rc4) (23.1)\n",
      "Requirement already satisfied: Pillow in /home/liangyu/miniconda3/envs/mmlab2/lib/python3.9/site-packages (from mmcv==2.0.0.rc4) (9.5.0)\n",
      "Requirement already satisfied: pyyaml in /home/liangyu/miniconda3/envs/mmlab2/lib/python3.9/site-packages (from mmcv==2.0.0.rc4) (6.0)\n",
      "Requirement already satisfied: yapf in /home/liangyu/miniconda3/envs/mmlab2/lib/python3.9/site-packages (from mmcv==2.0.0.rc4) (0.33.0)\n",
      "Requirement already satisfied: opencv-python>=3 in /home/liangyu/miniconda3/envs/mmlab2/lib/python3.9/site-packages (from mmcv==2.0.0.rc4) (4.7.0.72)\n",
      "Requirement already satisfied: matplotlib in /home/liangyu/miniconda3/envs/mmlab2/lib/python3.9/site-packages (from mmengine>=0.2.0->mmcv==2.0.0.rc4) (3.7.1)\n",
      "Requirement already satisfied: rich in /home/liangyu/miniconda3/envs/mmlab2/lib/python3.9/site-packages (from mmengine>=0.2.0->mmcv==2.0.0.rc4) (13.3.5)\n",
      "Requirement already satisfied: termcolor in /home/liangyu/miniconda3/envs/mmlab2/lib/python3.9/site-packages (from mmengine>=0.2.0->mmcv==2.0.0.rc4) (2.3.0)\n",
      "Requirement already satisfied: tomli>=2.0.1 in /home/liangyu/miniconda3/envs/mmlab2/lib/python3.9/site-packages (from yapf->mmcv==2.0.0.rc4) (2.0.1)\n",
      "Requirement already satisfied: contourpy>=1.0.1 in /home/liangyu/miniconda3/envs/mmlab2/lib/python3.9/site-packages (from matplotlib->mmengine>=0.2.0->mmcv==2.0.0.rc4) (1.0.7)\n",
      "Requirement already satisfied: cycler>=0.10 in /home/liangyu/miniconda3/envs/mmlab2/lib/python3.9/site-packages (from matplotlib->mmengine>=0.2.0->mmcv==2.0.0.rc4) (0.11.0)\n",
      "Requirement already satisfied: fonttools>=4.22.0 in /home/liangyu/miniconda3/envs/mmlab2/lib/python3.9/site-packages (from matplotlib->mmengine>=0.2.0->mmcv==2.0.0.rc4) (4.39.4)\n",
      "Requirement already satisfied: kiwisolver>=1.0.1 in /home/liangyu/miniconda3/envs/mmlab2/lib/python3.9/site-packages (from matplotlib->mmengine>=0.2.0->mmcv==2.0.0.rc4) (1.4.4)\n",
      "Requirement already satisfied: pyparsing>=2.3.1 in /home/liangyu/miniconda3/envs/mmlab2/lib/python3.9/site-packages (from matplotlib->mmengine>=0.2.0->mmcv==2.0.0.rc4) (3.0.9)\n",
      "Requirement already satisfied: python-dateutil>=2.7 in /home/liangyu/miniconda3/envs/mmlab2/lib/python3.9/site-packages (from matplotlib->mmengine>=0.2.0->mmcv==2.0.0.rc4) (2.8.2)\n",
      "Requirement already satisfied: importlib-resources>=3.2.0 in /home/liangyu/miniconda3/envs/mmlab2/lib/python3.9/site-packages (from matplotlib->mmengine>=0.2.0->mmcv==2.0.0.rc4) (5.12.0)\n",
      "Requirement already satisfied: markdown-it-py<3.0.0,>=2.2.0 in /home/liangyu/miniconda3/envs/mmlab2/lib/python3.9/site-packages (from rich->mmengine>=0.2.0->mmcv==2.0.0.rc4) (2.2.0)\n",
      "Requirement already satisfied: pygments<3.0.0,>=2.13.0 in /home/liangyu/miniconda3/envs/mmlab2/lib/python3.9/site-packages (from rich->mmengine>=0.2.0->mmcv==2.0.0.rc4) (2.15.1)\n",
      "Requirement already satisfied: zipp>=3.1.0 in /home/liangyu/miniconda3/envs/mmlab2/lib/python3.9/site-packages (from importlib-resources>=3.2.0->matplotlib->mmengine>=0.2.0->mmcv==2.0.0.rc4) (3.15.0)\n",
      "Requirement already satisfied: mdurl~=0.1 in /home/liangyu/miniconda3/envs/mmlab2/lib/python3.9/site-packages (from markdown-it-py<3.0.0,>=2.2.0->rich->mmengine>=0.2.0->mmcv==2.0.0.rc4) (0.1.2)\n",
      "Requirement already satisfied: six>=1.5 in /home/liangyu/miniconda3/envs/mmlab2/lib/python3.9/site-packages (from python-dateutil>=2.7->matplotlib->mmengine>=0.2.0->mmcv==2.0.0.rc4) (1.16.0)\n",
      "\u001b[33mWARNING: Ignoring invalid distribution -orch (/home/liangyu/miniconda3/envs/mmlab2/lib/python3.9/site-packages)\u001b[0m\u001b[33m\n",
      "\u001b[0m/home/liangyu/miniconda3/envs/mmlab2/lib/python3.9/site-packages/setuptools/command/install.py:34: SetuptoolsDeprecationWarning: setup.py install is deprecated. Use build and pip and other standards-based tools.\n",
      "  warnings.warn(\n"
     ]
    }
   ],
   "source": [
    "!pip install -U openmim\n",
    "!mim install mmengine\n",
    "!mim install 'mmcv==2.0.0.rc4'"
   ]
  },
  {
   "cell_type": "code",
   "execution_count": 5,
   "id": "0c207431",
   "metadata": {},
   "outputs": [
    {
     "data": {
      "text/plain": [
       "'1.10.1+cu113'"
      ]
     },
     "execution_count": 5,
     "metadata": {},
     "output_type": "execute_result"
    }
   ],
   "source": [
    "torch.__version__"
   ]
  },
  {
   "cell_type": "code",
   "execution_count": 6,
   "id": "9c8055ad",
   "metadata": {},
   "outputs": [],
   "source": [
    "# 删掉原有的 mmsegmentation 文件夹（如有）\n",
    "!rm -rf mmsegmentation"
   ]
  },
  {
   "cell_type": "code",
   "execution_count": 7,
   "id": "38d13705",
   "metadata": {},
   "outputs": [
    {
     "name": "stdout",
     "output_type": "stream",
     "text": [
      "Cloning into 'mmsegmentation'...\n",
      "remote: Enumerating objects: 15117, done.\u001b[K\n",
      "remote: Counting objects: 100% (684/684), done.\u001b[K\n",
      "remote: Compressing objects: 100% (455/455), done.\u001b[K\n",
      "remote: Total 15117 (delta 272), reused 433 (delta 197), pack-reused 14433\u001b[K\n",
      "Receiving objects: 100% (15117/15117), 20.27 MiB | 14.21 MiB/s, done.\n",
      "Resolving deltas: 100% (10581/10581), done.\n"
     ]
    }
   ],
   "source": [
    "# 从 github 上下载最新的 mmsegmentation 源代码\n",
    "!git clone https://github.com/open-mmlab/mmsegmentation.git -b dev-1.x"
   ]
  },
  {
   "cell_type": "code",
   "execution_count": 8,
   "id": "f1210865",
   "metadata": {},
   "outputs": [
    {
     "data": {
      "text/plain": [
       "'/home/liangyu/code/mmlab2/2023AI/0612'"
      ]
     },
     "execution_count": 8,
     "metadata": {},
     "output_type": "execute_result"
    }
   ],
   "source": [
    "pwd"
   ]
  },
  {
   "cell_type": "code",
   "execution_count": 16,
   "id": "a1ce356a",
   "metadata": {},
   "outputs": [
    {
     "name": "stdout",
     "output_type": "stream",
     "text": [
      "Using pip 23.1.2 from /home/liangyu/miniconda3/envs/mmlab2/lib/python3.9/site-packages/pip (python 3.9)\n",
      "\u001b[33mWARNING: Ignoring invalid distribution -orch (/home/liangyu/miniconda3/envs/mmlab2/lib/python3.9/site-packages)\u001b[0m\u001b[33m\n",
      "\u001b[0mObtaining file:///home/liangyu/code/mmlab2/2023AI/0612/mmsegmentation\n",
      "  Preparing metadata (setup.py) ... \u001b[?25l  Running command python setup.py egg_info\n",
      "  running egg_info\n",
      "  creating /tmp/pip-pip-egg-info-a9iunx7p/mmsegmentation.egg-info\n",
      "  writing /tmp/pip-pip-egg-info-a9iunx7p/mmsegmentation.egg-info/PKG-INFO\n",
      "  writing dependency_links to /tmp/pip-pip-egg-info-a9iunx7p/mmsegmentation.egg-info/dependency_links.txt\n",
      "  writing requirements to /tmp/pip-pip-egg-info-a9iunx7p/mmsegmentation.egg-info/requires.txt\n",
      "  writing top-level names to /tmp/pip-pip-egg-info-a9iunx7p/mmsegmentation.egg-info/top_level.txt\n",
      "  writing manifest file '/tmp/pip-pip-egg-info-a9iunx7p/mmsegmentation.egg-info/SOURCES.txt'\n",
      "  reading manifest file '/tmp/pip-pip-egg-info-a9iunx7p/mmsegmentation.egg-info/SOURCES.txt'\n",
      "  reading manifest template 'MANIFEST.in'\n",
      "  warning: no files found matching 'mmseg/.mim/model-index.yml'\n",
      "  warning: no files found matching '*.py' under directory 'mmseg/.mim/configs'\n",
      "  warning: no files found matching '*.yaml' under directory 'mmseg/.mim/configs'\n",
      "  warning: no files found matching '*.py' under directory 'mmseg/.mim/tools'\n",
      "  warning: no files found matching '*.sh' under directory 'mmseg/.mim/tools'\n",
      "  adding license file 'LICENSE'\n",
      "  writing manifest file '/tmp/pip-pip-egg-info-a9iunx7p/mmsegmentation.egg-info/SOURCES.txt'\n",
      "\u001b[?25hdone\n",
      "\u001b[33m  WARNING: Ignoring invalid distribution -orch (/home/liangyu/miniconda3/envs/mmlab2/lib/python3.9/site-packages)\u001b[0m\u001b[33m\n",
      "\u001b[0mRequirement already satisfied: matplotlib in /home/liangyu/miniconda3/envs/mmlab2/lib/python3.9/site-packages (from mmsegmentation==1.0.0) (3.7.1)\n",
      "Requirement already satisfied: numpy in /home/liangyu/miniconda3/envs/mmlab2/lib/python3.9/site-packages (from mmsegmentation==1.0.0) (1.24.3)\n",
      "Requirement already satisfied: packaging in /home/liangyu/miniconda3/envs/mmlab2/lib/python3.9/site-packages (from mmsegmentation==1.0.0) (23.1)\n",
      "Requirement already satisfied: prettytable in /home/liangyu/miniconda3/envs/mmlab2/lib/python3.9/site-packages (from mmsegmentation==1.0.0) (3.7.0)\n",
      "Requirement already satisfied: scipy in /home/liangyu/miniconda3/envs/mmlab2/lib/python3.9/site-packages (from mmsegmentation==1.0.0) (1.10.1)\n",
      "Requirement already satisfied: contourpy>=1.0.1 in /home/liangyu/miniconda3/envs/mmlab2/lib/python3.9/site-packages (from matplotlib->mmsegmentation==1.0.0) (1.0.7)\n",
      "Requirement already satisfied: cycler>=0.10 in /home/liangyu/miniconda3/envs/mmlab2/lib/python3.9/site-packages (from matplotlib->mmsegmentation==1.0.0) (0.11.0)\n",
      "Requirement already satisfied: fonttools>=4.22.0 in /home/liangyu/miniconda3/envs/mmlab2/lib/python3.9/site-packages (from matplotlib->mmsegmentation==1.0.0) (4.39.4)\n",
      "Requirement already satisfied: kiwisolver>=1.0.1 in /home/liangyu/miniconda3/envs/mmlab2/lib/python3.9/site-packages (from matplotlib->mmsegmentation==1.0.0) (1.4.4)\n",
      "Requirement already satisfied: pillow>=6.2.0 in /home/liangyu/miniconda3/envs/mmlab2/lib/python3.9/site-packages (from matplotlib->mmsegmentation==1.0.0) (9.5.0)\n",
      "Requirement already satisfied: pyparsing>=2.3.1 in /home/liangyu/miniconda3/envs/mmlab2/lib/python3.9/site-packages (from matplotlib->mmsegmentation==1.0.0) (3.0.9)\n",
      "Requirement already satisfied: python-dateutil>=2.7 in /home/liangyu/miniconda3/envs/mmlab2/lib/python3.9/site-packages (from matplotlib->mmsegmentation==1.0.0) (2.8.2)\n",
      "Requirement already satisfied: importlib-resources>=3.2.0 in /home/liangyu/miniconda3/envs/mmlab2/lib/python3.9/site-packages (from matplotlib->mmsegmentation==1.0.0) (5.12.0)\n",
      "Requirement already satisfied: wcwidth in /home/liangyu/miniconda3/envs/mmlab2/lib/python3.9/site-packages (from prettytable->mmsegmentation==1.0.0) (0.2.6)\n",
      "Requirement already satisfied: zipp>=3.1.0 in /home/liangyu/miniconda3/envs/mmlab2/lib/python3.9/site-packages (from importlib-resources>=3.2.0->matplotlib->mmsegmentation==1.0.0) (3.15.0)\n",
      "Requirement already satisfied: six>=1.5 in /home/liangyu/miniconda3/envs/mmlab2/lib/python3.9/site-packages (from python-dateutil>=2.7->matplotlib->mmsegmentation==1.0.0) (1.16.0)\n",
      "\u001b[33mWARNING: Ignoring invalid distribution -orch (/home/liangyu/miniconda3/envs/mmlab2/lib/python3.9/site-packages)\u001b[0m\u001b[33m\n",
      "\u001b[0mInstalling collected packages: mmsegmentation\n",
      "  Running setup.py develop for mmsegmentation\n",
      "    Running command python setup.py develop\n",
      "    running develop\n",
      "    /home/liangyu/miniconda3/envs/mmlab2/lib/python3.9/site-packages/setuptools/command/easy_install.py:156: EasyInstallDeprecationWarning: easy_install command is deprecated. Use build and pip and other standards-based tools.\n",
      "      warnings.warn(\n",
      "    /home/liangyu/miniconda3/envs/mmlab2/lib/python3.9/site-packages/setuptools/command/install.py:34: SetuptoolsDeprecationWarning: setup.py install is deprecated. Use build and pip and other standards-based tools.\n",
      "      warnings.warn(\n",
      "    running egg_info\n",
      "    creating mmsegmentation.egg-info\n",
      "    writing mmsegmentation.egg-info/PKG-INFO\n",
      "    writing dependency_links to mmsegmentation.egg-info/dependency_links.txt\n",
      "    writing requirements to mmsegmentation.egg-info/requires.txt\n",
      "    writing top-level names to mmsegmentation.egg-info/top_level.txt\n",
      "    writing manifest file 'mmsegmentation.egg-info/SOURCES.txt'\n",
      "    reading manifest file 'mmsegmentation.egg-info/SOURCES.txt'\n",
      "    reading manifest template 'MANIFEST.in'\n",
      "    adding license file 'LICENSE'\n",
      "    writing manifest file 'mmsegmentation.egg-info/SOURCES.txt'\n",
      "    running build_ext\n",
      "    Creating /home/liangyu/miniconda3/envs/mmlab2/lib/python3.9/site-packages/mmsegmentation.egg-link (link to .)\n",
      "    mmsegmentation 1.0.0 is already the active version in easy-install.pth\n",
      "\n",
      "    Installed /home/liangyu/code/mmlab2/2023AI/0612/mmsegmentation\n",
      "\u001b[33mWARNING: Ignoring invalid distribution -orch (/home/liangyu/miniconda3/envs/mmlab2/lib/python3.9/site-packages)\u001b[0m\u001b[33m\n",
      "\u001b[0m\u001b[33mWARNING: Ignoring invalid distribution -orch (/home/liangyu/miniconda3/envs/mmlab2/lib/python3.9/site-packages)\u001b[0m\u001b[33m\n",
      "\u001b[0mSuccessfully installed mmsegmentation-1.0.0\n"
     ]
    }
   ],
   "source": [
    "# 进入主目录\n",
    "import os\n",
    "os.chdir('mmsegmentation')\n",
    "!pip install -v -e ."
   ]
  },
  {
   "cell_type": "code",
   "execution_count": null,
   "id": "29c57d74",
   "metadata": {},
   "outputs": [],
   "source": []
  },
  {
   "cell_type": "code",
   "execution_count": 10,
   "id": "5b0c4210",
   "metadata": {},
   "outputs": [],
   "source": [
    "import os\n",
    "\n",
    "# # 创建 checkpoint 文件夹，用于存放预训练模型权重文件\n",
    "# os.mkdir('checkpoint')\n",
    "\n",
    "# # 创建 outputs 文件夹，用于存放预测结果\n",
    "# os.mkdir('outputs')\n",
    "\n",
    "# # 创建 data 文件夹，用于存放图片和视频素材\n",
    "# os.mkdir('data')"
   ]
  },
  {
   "cell_type": "code",
   "execution_count": 11,
   "id": "6c4cae0c",
   "metadata": {},
   "outputs": [
    {
     "name": "stdout",
     "output_type": "stream",
     "text": [
      "--2023-06-14 01:08:06--  https://download.openmmlab.com/mmsegmentation/v0.5/pspnet/pspnet_r50-d8_512x1024_40k_cityscapes/pspnet_r50-d8_512x1024_40k_cityscapes_20200605_003338-2966598c.pth\n",
      "Resolving download.openmmlab.com (download.openmmlab.com)... 159.226.227.109, 159.226.227.113, 159.226.227.115, ...\n",
      "Connecting to download.openmmlab.com (download.openmmlab.com)|159.226.227.109|:443... connected.\n",
      "HTTP request sent, awaiting response... 200 OK\n",
      "Length: 196205945 (187M) [application/octet-stream]\n",
      "Saving to: ‘checkpoint/pspnet_r50-d8_512x1024_40k_cityscapes_20200605_003338-2966598c.pth’\n",
      "\n",
      "pspnet_r50-d8_512x1 100%[===================>] 187.12M  12.9MB/s    in 16s     \n",
      "\n",
      "2023-06-14 01:08:22 (11.9 MB/s) - ‘checkpoint/pspnet_r50-d8_512x1024_40k_cityscapes_20200605_003338-2966598c.pth’ saved [196205945/196205945]\n",
      "\n",
      "--2023-06-14 01:08:22--  https://zihao-openmmlab.obs.cn-east-3.myhuaweicloud.com/20220713-mmdetection/images/street_uk.jpeg\n",
      "Resolving zihao-openmmlab.obs.cn-east-3.myhuaweicloud.com (zihao-openmmlab.obs.cn-east-3.myhuaweicloud.com)... 121.36.235.132\n",
      "Connecting to zihao-openmmlab.obs.cn-east-3.myhuaweicloud.com (zihao-openmmlab.obs.cn-east-3.myhuaweicloud.com)|121.36.235.132|:443... connected.\n",
      "HTTP request sent, awaiting response... 200 OK\n",
      "Length: 469065 (458K) [image/jpeg]\n",
      "Saving to: ‘data/street_uk.jpeg’\n",
      "\n",
      "street_uk.jpeg      100%[===================>] 458.07K  --.-KB/s    in 0.02s   \n",
      "\n",
      "2023-06-14 01:08:22 (24.3 MB/s) - ‘data/street_uk.jpeg’ saved [469065/469065]\n",
      "\n",
      "--2023-06-14 01:08:22--  https://zihao-download.obs.cn-east-3.myhuaweicloud.com/detectron2/traffic.mp4\n",
      "Resolving zihao-download.obs.cn-east-3.myhuaweicloud.com (zihao-download.obs.cn-east-3.myhuaweicloud.com)... 121.36.235.162, 121.36.235.163\n",
      "Connecting to zihao-download.obs.cn-east-3.myhuaweicloud.com (zihao-download.obs.cn-east-3.myhuaweicloud.com)|121.36.235.162|:443... connected.\n",
      "HTTP request sent, awaiting response... 200 OK\n",
      "Length: 3686362 (3.5M) [video/mp4]\n",
      "Saving to: ‘data/traffic.mp4’\n",
      "\n",
      "traffic.mp4         100%[===================>]   3.51M  --.-KB/s    in 0.1s    \n",
      "\n",
      "2023-06-14 01:08:23 (36.6 MB/s) - ‘data/traffic.mp4’ saved [3686362/3686362]\n",
      "\n",
      "--2023-06-14 01:08:23--  https://zihao-openmmlab.obs.cn-east-3.myhuaweicloud.com/20220713-mmdetection/images/street_20220330_174028.mp4\n",
      "Resolving zihao-openmmlab.obs.cn-east-3.myhuaweicloud.com (zihao-openmmlab.obs.cn-east-3.myhuaweicloud.com)... 121.36.235.132\n",
      "Connecting to zihao-openmmlab.obs.cn-east-3.myhuaweicloud.com (zihao-openmmlab.obs.cn-east-3.myhuaweicloud.com)|121.36.235.132|:443... connected.\n",
      "HTTP request sent, awaiting response... 200 OK\n",
      "Length: 13575276 (13M) [video/mp4]\n",
      "Saving to: ‘data/street_20220330_174028.mp4’\n",
      "\n",
      "street_20220330_174 100%[===================>]  12.95M  50.6MB/s    in 0.3s    \n",
      "\n",
      "2023-06-14 01:08:23 (50.6 MB/s) - ‘data/street_20220330_174028.mp4’ saved [13575276/13575276]\n",
      "\n"
     ]
    }
   ],
   "source": [
    "# 从 Model Zoo 获取 PSPNet 预训练模型，下载并保存在 checkpoint 文件夹中\n",
    "!wget https://download.openmmlab.com/mmsegmentation/v0.5/pspnet/pspnet_r50-d8_512x1024_40k_cityscapes/pspnet_r50-d8_512x1024_40k_cityscapes_20200605_003338-2966598c.pth -P checkpoint\n",
    "# 伦敦街景图片\n",
    "!wget https://zihao-openmmlab.obs.cn-east-3.myhuaweicloud.com/20220713-mmdetection/images/street_uk.jpeg -P data\n",
    "\n",
    "# 上海驾车街景视频，视频来源：https://www.youtube.com/watch?v=ll8TgCZ0plk\n",
    "!wget https://zihao-download.obs.cn-east-3.myhuaweicloud.com/detectron2/traffic.mp4 -P data\n",
    "\n",
    "# 街拍视频，2022年3月30日\n",
    "!wget https://zihao-openmmlab.obs.cn-east-3.myhuaweicloud.com/20220713-mmdetection/images/street_20220330_174028.mp4 -P data\n"
   ]
  },
  {
   "cell_type": "code",
   "execution_count": 12,
   "id": "070ce7a2",
   "metadata": {},
   "outputs": [
    {
     "name": "stdout",
     "output_type": "stream",
     "text": [
      "Pytorch 版本 1.10.1+cu113\n",
      "CUDA 是否可用 False\n"
     ]
    }
   ],
   "source": [
    "# 检查 Pytorch\n",
    "import torch, torchvision\n",
    "print('Pytorch 版本', torch.__version__)\n",
    "print('CUDA 是否可用',torch.cuda.is_available())"
   ]
  },
  {
   "cell_type": "code",
   "execution_count": 13,
   "id": "2e084e50",
   "metadata": {},
   "outputs": [
    {
     "name": "stdout",
     "output_type": "stream",
     "text": [
      "MMCV版本 2.0.0rc4\n",
      "CUDA版本 11.3\n",
      "编译器版本 GCC 9.3\n"
     ]
    }
   ],
   "source": [
    "# 检查 mmcv\n",
    "import mmcv\n",
    "from mmcv.ops import get_compiling_cuda_version, get_compiler_version\n",
    "print('MMCV版本', mmcv.__version__)\n",
    "print('CUDA版本', get_compiling_cuda_version())\n",
    "print('编译器版本', get_compiler_version())\n"
   ]
  },
  {
   "cell_type": "code",
   "execution_count": 14,
   "id": "de56c677",
   "metadata": {},
   "outputs": [
    {
     "name": "stdout",
     "output_type": "stream",
     "text": [
      "mmsegmentation版本 1.0.0\n"
     ]
    }
   ],
   "source": [
    "# 检查 mmsegmentation\n",
    "import mmseg\n",
    "from mmseg.utils import register_all_modules\n",
    "from mmseg.apis import inference_model, init_model\n",
    "print('mmsegmentation版本', mmseg.__version__)"
   ]
  },
  {
   "attachments": {},
   "cell_type": "markdown",
   "id": "36204f4c",
   "metadata": {},
   "source": [
    "# chinese font downloading"
   ]
  },
  {
   "cell_type": "code",
   "execution_count": 15,
   "id": "7dec65b9",
   "metadata": {},
   "outputs": [
    {
     "name": "stdout",
     "output_type": "stream",
     "text": [
      "/environment/miniconda3/lib/python3.7/site-packages/matplotlib/mpl-data/fonts/ttf/SimHei.ttf: No such file or directory\n"
     ]
    },
    {
     "name": "stderr",
     "output_type": "stream",
     "text": [
      "findfont: Font family 'SimHei' not found.\n",
      "findfont: Font family 'SimHei' not found.\n",
      "findfont: Font family 'SimHei' not found.\n",
      "findfont: Font family 'SimHei' not found.\n",
      "findfont: Font family 'SimHei' not found.\n",
      "findfont: Font family 'SimHei' not found.\n",
      "findfont: Font family 'SimHei' not found.\n",
      "findfont: Font family 'SimHei' not found.\n",
      "findfont: Font family 'SimHei' not found.\n",
      "findfont: Font family 'SimHei' not found.\n",
      "findfont: Font family 'SimHei' not found.\n",
      "findfont: Font family 'SimHei' not found.\n",
      "/home/liangyu/miniconda3/envs/mmlab2/lib/python3.9/site-packages/IPython/core/pylabtools.py:152: UserWarning: Glyph 36724 (\\N{CJK UNIFIED IDEOGRAPH-8F74}) missing from current font.\n",
      "  fig.canvas.print_figure(bytes_io, **kw)\n",
      "findfont: Font family 'SimHei' not found.\n",
      "findfont: Font family 'SimHei' not found.\n",
      "/home/liangyu/miniconda3/envs/mmlab2/lib/python3.9/site-packages/IPython/core/pylabtools.py:152: UserWarning: Glyph 20013 (\\N{CJK UNIFIED IDEOGRAPH-4E2D}) missing from current font.\n",
      "  fig.canvas.print_figure(bytes_io, **kw)\n",
      "/home/liangyu/miniconda3/envs/mmlab2/lib/python3.9/site-packages/IPython/core/pylabtools.py:152: UserWarning: Glyph 25991 (\\N{CJK UNIFIED IDEOGRAPH-6587}) missing from current font.\n",
      "  fig.canvas.print_figure(bytes_io, **kw)\n",
      "/home/liangyu/miniconda3/envs/mmlab2/lib/python3.9/site-packages/IPython/core/pylabtools.py:152: UserWarning: Glyph 23383 (\\N{CJK UNIFIED IDEOGRAPH-5B57}) missing from current font.\n",
      "  fig.canvas.print_figure(bytes_io, **kw)\n",
      "/home/liangyu/miniconda3/envs/mmlab2/lib/python3.9/site-packages/IPython/core/pylabtools.py:152: UserWarning: Glyph 20307 (\\N{CJK UNIFIED IDEOGRAPH-4F53}) missing from current font.\n",
      "  fig.canvas.print_figure(bytes_io, **kw)\n",
      "/home/liangyu/miniconda3/envs/mmlab2/lib/python3.9/site-packages/IPython/core/pylabtools.py:152: UserWarning: Glyph 27979 (\\N{CJK UNIFIED IDEOGRAPH-6D4B}) missing from current font.\n",
      "  fig.canvas.print_figure(bytes_io, **kw)\n",
      "/home/liangyu/miniconda3/envs/mmlab2/lib/python3.9/site-packages/IPython/core/pylabtools.py:152: UserWarning: Glyph 35797 (\\N{CJK UNIFIED IDEOGRAPH-8BD5}) missing from current font.\n",
      "  fig.canvas.print_figure(bytes_io, **kw)\n",
      "findfont: Font family 'SimHei' not found.\n",
      "findfont: Font family 'SimHei' not found.\n",
      "findfont: Font family 'SimHei' not found.\n",
      "findfont: Font family 'SimHei' not found.\n",
      "findfont: Font family 'SimHei' not found.\n",
      "findfont: Font family 'SimHei' not found.\n",
      "findfont: Font family 'SimHei' not found.\n",
      "findfont: Font family 'SimHei' not found.\n",
      "findfont: Font family 'SimHei' not found.\n",
      "findfont: Font family 'SimHei' not found.\n",
      "findfont: Font family 'SimHei' not found.\n",
      "findfont: Font family 'SimHei' not found.\n",
      "findfont: Font family 'SimHei' not found.\n",
      "findfont: Font family 'SimHei' not found.\n",
      "findfont: Font family 'SimHei' not found.\n",
      "findfont: Font family 'SimHei' not found.\n",
      "findfont: Font family 'SimHei' not found.\n",
      "findfont: Font family 'SimHei' not found.\n",
      "findfont: Font family 'SimHei' not found.\n",
      "findfont: Font family 'SimHei' not found.\n",
      "findfont: Font family 'SimHei' not found.\n",
      "findfont: Font family 'SimHei' not found.\n",
      "findfont: Font family 'SimHei' not found.\n",
      "findfont: Font family 'SimHei' not found.\n",
      "findfont: Font family 'SimHei' not found.\n",
      "findfont: Font family 'SimHei' not found.\n",
      "findfont: Font family 'SimHei' not found.\n",
      "findfont: Font family 'SimHei' not found.\n",
      "findfont: Font family 'SimHei' not found.\n",
      "findfont: Font family 'SimHei' not found.\n",
      "findfont: Font family 'SimHei' not found.\n",
      "findfont: Font family 'SimHei' not found.\n",
      "findfont: Font family 'SimHei' not found.\n",
      "findfont: Font family 'SimHei' not found.\n",
      "findfont: Font family 'SimHei' not found.\n",
      "findfont: Font family 'SimHei' not found.\n",
      "findfont: Font family 'SimHei' not found.\n",
      "findfont: Font family 'SimHei' not found.\n",
      "findfont: Font family 'SimHei' not found.\n",
      "findfont: Font family 'SimHei' not found.\n",
      "findfont: Font family 'SimHei' not found.\n",
      "findfont: Font family 'SimHei' not found.\n",
      "findfont: Font family 'SimHei' not found.\n",
      "findfont: Font family 'SimHei' not found.\n",
      "findfont: Font family 'SimHei' not found.\n",
      "findfont: Font family 'SimHei' not found.\n",
      "findfont: Font family 'SimHei' not found.\n",
      "findfont: Font family 'SimHei' not found.\n",
      "findfont: Font family 'SimHei' not found.\n",
      "findfont: Font family 'SimHei' not found.\n",
      "findfont: Font family 'SimHei' not found.\n",
      "findfont: Font family 'SimHei' not found.\n",
      "findfont: Font family 'SimHei' not found.\n",
      "findfont: Font family 'SimHei' not found.\n",
      "findfont: Font family 'SimHei' not found.\n"
     ]
    },
    {
     "data": {
      "image/png": "[encoded data removed]",
      "text/plain": [
       "<Figure size 640x480 with 1 Axes>"
      ]
     },
     "metadata": {},
     "output_type": "display_data"
    }
   ],
   "source": [
    "# Linux操作系统，例如 云GPU平台：https://featurize.cn/?s=d7ce99f842414bfcaea5662a97581bd1\n",
    "# 如果遇到 SSL 相关报错，重新运行本代码块即可\n",
    "!wget https://zihao-openmmlab.obs.cn-east-3.myhuaweicloud.com/20220716-mmclassification/dataset/SimHei.ttf -O /environment/miniconda3/lib/python3.7/site-packages/matplotlib/mpl-data/fonts/ttf/SimHei.ttf\n",
    "!rm -rf /home/featurize/.cache/matplotlib\n",
    "\n",
    "import matplotlib \n",
    "import matplotlib.pyplot as plt\n",
    "matplotlib.rc(\"font\",family='SimHei') # 中文字体\n",
    "\n",
    "\n",
    "plt.plot([1,2,3], [100,500,300])\n",
    "plt.title('matplotlib中文字体测试', fontsize=25)\n",
    "plt.xlabel('X轴', fontsize=15)\n",
    "plt.ylabel('Y轴', fontsize=15)\n",
    "plt.show()"
   ]
  }
 ],
 "metadata": {
  "kernelspec": {
   "display_name": "Python 3 (ipykernel)",
   "language": "python",
   "name": "python3"
  },
  "language_info": {
   "codemirror_mode": {
    "name": "ipython",
    "version": 3
   },
   "file_extension": ".py",
   "mimetype": "text/x-python",
   "name": "python",
   "nbconvert_exporter": "python",
   "pygments_lexer": "ipython3",
   "version": "3.9.16"
  }
 },
 "nbformat": 4,
 "nbformat_minor": 5
}
